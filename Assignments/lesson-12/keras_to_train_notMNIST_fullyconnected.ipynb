{
 "cells": [
  {
   "cell_type": "markdown",
   "metadata": {},
   "source": [
    "## 使用keras训练notMNIST数据集，尝试之前作业的几种全连接网络结构"
   ]
  },
  {
   "cell_type": "markdown",
   "metadata": {},
   "source": [
    "- 由于keras和tensorflow版本的问题，这里通过tensorflow调用keras，而不是直接import keras"
   ]
  },
  {
   "cell_type": "code",
   "execution_count": 35,
   "metadata": {},
   "outputs": [],
   "source": [
    "from tensorflow.keras.models import Sequential  \n",
    "from tensorflow.keras.layers import Dense, Dropout, Activation  \n",
    "from tensorflow.keras.optimizers import SGD  \n",
    "from tensorflow.keras.callbacks import Callback\n",
    "from tensorflow.keras import regularizers\n",
    "import numpy as np\n",
    "from sklearn.metrics import roc_auc_score"
   ]
  },
  {
   "cell_type": "code",
   "execution_count": 2,
   "metadata": {},
   "outputs": [],
   "source": [
    "import pickle"
   ]
  },
  {
   "cell_type": "code",
   "execution_count": 3,
   "metadata": {},
   "outputs": [
    {
     "name": "stdout",
     "output_type": "stream",
     "text": [
      "Training set (200000, 28, 28) (200000,)\n",
      "Validation set (10000, 28, 28) (10000,)\n",
      "Test set (10000, 28, 28) (10000,)\n"
     ]
    }
   ],
   "source": [
    "pickle_file = 'notMNIST.pickle'\n",
    "\n",
    "with open(pickle_file, 'rb') as f:\n",
    "  save = pickle.load(f)\n",
    "  train_dataset = save['train_dataset']\n",
    "  train_labels = save['train_labels']\n",
    "  valid_dataset = save['valid_dataset']\n",
    "  valid_labels = save['valid_labels']\n",
    "  test_dataset = save['test_dataset']\n",
    "  test_labels = save['test_labels']\n",
    "  del save  # hint to help gc free up memory\n",
    "  print('Training set', train_dataset.shape, train_labels.shape)\n",
    "  print('Validation set', valid_dataset.shape, valid_labels.shape)\n",
    "  print('Test set', test_dataset.shape, test_labels.shape)"
   ]
  },
  {
   "cell_type": "code",
   "execution_count": 4,
   "metadata": {},
   "outputs": [
    {
     "name": "stdout",
     "output_type": "stream",
     "text": [
      "Training set (200000, 784) (200000, 10)\n",
      "Validation set (10000, 784) (10000, 10)\n",
      "Test set (10000, 784) (10000, 10)\n"
     ]
    }
   ],
   "source": [
    "image_size = 28\n",
    "num_labels = 10\n",
    "def reformat(dataset,labels):\n",
    "    dataset = dataset.reshape(-1,image_size*image_size).astype(np.float32)\n",
    "    lables = (np.arange(num_labels) == labels[:,None]).astype(np.float32)\n",
    "    return dataset, lables\n",
    "train_dataset, train_labels = reformat(train_dataset, train_labels)\n",
    "valid_dataset, valid_labels = reformat(valid_dataset, valid_labels)\n",
    "test_dataset, test_labels = reformat(test_dataset, test_labels)\n",
    "print('Training set', train_dataset.shape, train_labels.shape)\n",
    "print('Validation set', valid_dataset.shape, valid_labels.shape)\n",
    "print('Test set', test_dataset.shape, test_labels.shape)      "
   ]
  },
  {
   "cell_type": "code",
   "execution_count": 22,
   "metadata": {},
   "outputs": [],
   "source": [
    "def accuracy(predictions, labels):\n",
    "  return (100.0 * np.sum(np.argmax(predictions, 1) == np.argmax(labels, 1))\n",
    "          / predictions.shape[0])"
   ]
  },
  {
   "cell_type": "code",
   "execution_count": 41,
   "metadata": {},
   "outputs": [],
   "source": [
    "class RocAucEvaluation(Callback):\n",
    "    def __init__(self, validation_data=(), interval=1):\n",
    "        super(Callback, self).__init__()\n",
    "\n",
    "        self.interval = interval\n",
    "        self.X_val, self.y_val = validation_data\n",
    "\n",
    "    def on_epoch_end(self, epoch, logs={}):\n",
    "        if epoch % self.interval == 0:\n",
    "            y_pred = self.model.predict(self.X_val, verbose=0)\n",
    "            score = roc_auc_score(self.y_val, y_pred)\n",
    "            accur = accuracy(y_pred,self.y_val)\n",
    "            print(\"\\n ROC-AUC - epoch: %d - score: %.6f - accuracy:  %.1f%% \\n\" % (epoch+1, score,accur))"
   ]
  },
  {
   "cell_type": "code",
   "execution_count": 42,
   "metadata": {},
   "outputs": [],
   "source": [
    "RocAuc = RocAucEvaluation(validation_data=(valid_dataset, valid_labels), interval=1)"
   ]
  },
  {
   "cell_type": "markdown",
   "metadata": {},
   "source": [
    "### fully-connected"
   ]
  },
  {
   "cell_type": "code",
   "execution_count": 43,
   "metadata": {},
   "outputs": [
    {
     "name": "stdout",
     "output_type": "stream",
     "text": [
      "Train on 200000 samples, validate on 10000 samples\n",
      "Epoch 1/5\n",
      "\n",
      " ROC-AUC - epoch: 1 - score: 0.985811 - accuracy:  86.4% \n",
      "\n",
      "200000/200000 - 6s - loss: 0.5407 - val_loss: 0.4672\n",
      "Epoch 2/5\n",
      "\n",
      " ROC-AUC - epoch: 2 - score: 0.988514 - accuracy:  87.5% \n",
      "\n",
      "200000/200000 - 6s - loss: 0.4236 - val_loss: 0.4207\n",
      "Epoch 3/5\n",
      "\n",
      " ROC-AUC - epoch: 3 - score: 0.989543 - accuracy:  88.2% \n",
      "\n",
      "200000/200000 - 6s - loss: 0.3758 - val_loss: 0.4029\n",
      "Epoch 4/5\n",
      "\n",
      " ROC-AUC - epoch: 4 - score: 0.990551 - accuracy:  89.0% \n",
      "\n",
      "200000/200000 - 7s - loss: 0.3428 - val_loss: 0.3795\n",
      "Epoch 5/5\n",
      "\n",
      " ROC-AUC - epoch: 5 - score: 0.991231 - accuracy:  89.1% \n",
      "\n",
      "200000/200000 - 6s - loss: 0.3183 - val_loss: 0.3697\n"
     ]
    },
    {
     "data": {
      "text/plain": [
       "<tensorflow.python.keras.callbacks.History at 0x24efad0eb70>"
      ]
     },
     "execution_count": 43,
     "metadata": {},
     "output_type": "execute_result"
    }
   ],
   "source": [
    "model = Sequential()\n",
    "model.add(Dense(1024,input_shape=(784,))) # 输入层，28*28=784 \n",
    "model.add(Activation('relu')) # 激活函数是relu\n",
    "model.add(Dense(10))\n",
    "model.add(Activation('softmax'))\n",
    "sgd = SGD(lr=0.1)\n",
    "model.compile(loss='categorical_crossentropy', optimizer=sgd) \n",
    "model.fit(train_dataset,train_labels,batch_size=128,epochs=5,callbacks=[RocAuc], verbose=2,\n",
    "          validation_data=(valid_dataset, valid_labels))"
   ]
  },
  {
   "cell_type": "markdown",
   "metadata": {},
   "source": [
    "### fully-connected with L2-regulization"
   ]
  },
  {
   "cell_type": "code",
   "execution_count": 45,
   "metadata": {},
   "outputs": [
    {
     "name": "stdout",
     "output_type": "stream",
     "text": [
      "Train on 200000 samples, validate on 10000 samples\n",
      "Epoch 1/5\n",
      "\n",
      " ROC-AUC - epoch: 1 - score: 0.976101 - accuracy:  82.8% \n",
      "\n",
      "200000/200000 - 8s - loss: 2.2818 - val_loss: 0.8521\n",
      "Epoch 2/5\n",
      "\n",
      " ROC-AUC - epoch: 2 - score: 0.976243 - accuracy:  83.0% \n",
      "\n",
      "200000/200000 - 8s - loss: 0.8272 - val_loss: 0.8285\n",
      "Epoch 3/5\n",
      "\n",
      " ROC-AUC - epoch: 3 - score: 0.976279 - accuracy:  82.9% \n",
      "\n",
      "200000/200000 - 8s - loss: 0.8202 - val_loss: 0.8275\n",
      "Epoch 4/5\n",
      "\n",
      " ROC-AUC - epoch: 4 - score: 0.976584 - accuracy:  83.0% \n",
      "\n",
      "200000/200000 - 8s - loss: 0.8186 - val_loss: 0.8233\n",
      "Epoch 5/5\n",
      "\n",
      " ROC-AUC - epoch: 5 - score: 0.976518 - accuracy:  83.1% \n",
      "\n",
      "200000/200000 - 8s - loss: 0.8175 - val_loss: 0.8245\n"
     ]
    },
    {
     "data": {
      "text/plain": [
       "<tensorflow.python.keras.callbacks.History at 0x24ef282f5f8>"
      ]
     },
     "execution_count": 45,
     "metadata": {},
     "output_type": "execute_result"
    }
   ],
   "source": [
    "model = Sequential()\n",
    "model.add(Dense(1024,input_shape=(784,),kernel_regularizer=regularizers.l2(0.01))) # 输入层，28*28=784 \n",
    "model.add(Activation('relu')) # 激活函数是relu\n",
    "model.add(Dense(10,kernel_regularizer=regularizers.l2(0.01)))\n",
    "model.add(Activation('softmax'))\n",
    "sgd = SGD(lr=0.1)\n",
    "model.compile(loss='categorical_crossentropy', optimizer=sgd) \n",
    "model.fit(train_dataset,train_labels,batch_size=128,epochs=5,callbacks=[RocAuc], verbose=2,\n",
    "          validation_data=(valid_dataset, valid_labels))"
   ]
  },
  {
   "cell_type": "markdown",
   "metadata": {},
   "source": [
    "- 结果不是很好，或许是由于本来没有出现过拟合问题，强行惩罚反而不好"
   ]
  },
  {
   "cell_type": "markdown",
   "metadata": {},
   "source": [
    "### fully-connected with dropout"
   ]
  },
  {
   "cell_type": "code",
   "execution_count": 46,
   "metadata": {},
   "outputs": [
    {
     "name": "stdout",
     "output_type": "stream",
     "text": [
      "Train on 200000 samples, validate on 10000 samples\n",
      "Epoch 1/5\n",
      "\n",
      " ROC-AUC - epoch: 1 - score: 0.984641 - accuracy:  85.6% \n",
      "\n",
      "200000/200000 - 7s - loss: 0.5867 - val_loss: 0.4881\n",
      "Epoch 2/5\n",
      "\n",
      " ROC-AUC - epoch: 2 - score: 0.987165 - accuracy:  86.8% \n",
      "\n",
      "200000/200000 - 7s - loss: 0.4816 - val_loss: 0.4454\n",
      "Epoch 3/5\n",
      "\n",
      " ROC-AUC - epoch: 3 - score: 0.988784 - accuracy:  87.9% \n",
      "\n",
      "200000/200000 - 7s - loss: 0.4448 - val_loss: 0.4156\n",
      "Epoch 4/5\n",
      "\n",
      " ROC-AUC - epoch: 4 - score: 0.989589 - accuracy:  88.2% \n",
      "\n",
      "200000/200000 - 7s - loss: 0.4190 - val_loss: 0.3999\n",
      "Epoch 5/5\n",
      "\n",
      " ROC-AUC - epoch: 5 - score: 0.990023 - accuracy:  88.7% \n",
      "\n",
      "200000/200000 - 7s - loss: 0.4014 - val_loss: 0.3894\n"
     ]
    },
    {
     "data": {
      "text/plain": [
       "<tensorflow.python.keras.callbacks.History at 0x24efcc65320>"
      ]
     },
     "execution_count": 46,
     "metadata": {},
     "output_type": "execute_result"
    }
   ],
   "source": [
    "model = Sequential()\n",
    "model.add(Dense(1024,input_shape=(784,))) # 输入层，28*28=784 \n",
    "model.add(Activation('relu')) # 激活函数是relu\n",
    "model.add(Dropout(0.5))\n",
    "model.add(Dense(10))\n",
    "model.add(Activation('softmax'))\n",
    "sgd = SGD(lr=0.1)\n",
    "model.compile(loss='categorical_crossentropy', optimizer=sgd) \n",
    "model.fit(train_dataset,train_labels,batch_size=128,epochs=5,callbacks=[RocAuc], verbose=2,\n",
    "          validation_data=(valid_dataset, valid_labels))"
   ]
  },
  {
   "cell_type": "markdown",
   "metadata": {},
   "source": [
    "- 结果一般"
   ]
  },
  {
   "cell_type": "markdown",
   "metadata": {},
   "source": [
    "### fully-connected with dropout and learning rate decay"
   ]
  },
  {
   "cell_type": "code",
   "execution_count": 52,
   "metadata": {},
   "outputs": [
    {
     "name": "stdout",
     "output_type": "stream",
     "text": [
      "Train on 200000 samples, validate on 10000 samples\n",
      "Epoch 1/5\n",
      "\n",
      " ROC-AUC - epoch: 1 - score: 0.984523 - accuracy:  85.6% \n",
      "\n",
      "200000/200000 - 7s - loss: 0.5895 - val_loss: 0.4889\n",
      "Epoch 2/5\n",
      "\n",
      " ROC-AUC - epoch: 2 - score: 0.987085 - accuracy:  86.8% \n",
      "\n",
      "200000/200000 - 7s - loss: 0.4850 - val_loss: 0.4463\n",
      "Epoch 3/5\n",
      "\n",
      " ROC-AUC - epoch: 3 - score: 0.988424 - accuracy:  87.5% \n",
      "\n",
      "200000/200000 - 7s - loss: 0.4479 - val_loss: 0.4214\n",
      "Epoch 4/5\n",
      "\n",
      " ROC-AUC - epoch: 4 - score: 0.989213 - accuracy:  87.9% \n",
      "\n",
      "200000/200000 - 7s - loss: 0.4252 - val_loss: 0.4072\n",
      "Epoch 5/5\n",
      "\n",
      " ROC-AUC - epoch: 5 - score: 0.989656 - accuracy:  88.2% \n",
      "\n",
      "200000/200000 - 7s - loss: 0.4093 - val_loss: 0.3973\n"
     ]
    },
    {
     "data": {
      "text/plain": [
       "<tensorflow.python.keras.callbacks.History at 0x24eff770860>"
      ]
     },
     "execution_count": 52,
     "metadata": {},
     "output_type": "execute_result"
    }
   ],
   "source": [
    "model = Sequential()\n",
    "model.add(Dense(1024,input_shape=(784,))) # 输入层，28*28=784 \n",
    "model.add(Activation('relu')) # 激活函数是relu\n",
    "model.add(Dropout(0.5))\n",
    "model.add(Dense(10))\n",
    "model.add(Activation('softmax'))\n",
    "sgd = SGD(lr=0.1,decay=1e-04)\n",
    "model.compile(loss='categorical_crossentropy', optimizer=sgd) \n",
    "model.fit(train_dataset,train_labels,batch_size=128,epochs=5,callbacks=[RocAuc], verbose=2,\n",
    "          validation_data=(valid_dataset, valid_labels))"
   ]
  }
 ],
 "metadata": {
  "kernelspec": {
   "display_name": "Python 3",
   "language": "python",
   "name": "python3"
  },
  "language_info": {
   "codemirror_mode": {
    "name": "ipython",
    "version": 3
   },
   "file_extension": ".py",
   "mimetype": "text/x-python",
   "name": "python",
   "nbconvert_exporter": "python",
   "pygments_lexer": "ipython3",
   "version": "3.7.3"
  }
 },
 "nbformat": 4,
 "nbformat_minor": 2
}
