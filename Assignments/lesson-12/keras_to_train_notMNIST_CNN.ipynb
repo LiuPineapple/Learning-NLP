{
 "cells": [
  {
   "cell_type": "markdown",
   "metadata": {},
   "source": [
    "## 使用keras训练notMNIST数据集，尝试之前作业的两种CNN"
   ]
  },
  {
   "cell_type": "markdown",
   "metadata": {},
   "source": [
    "- 由于keras和tensorflow版本的问题，这里通过tensorflow调用keras，而不是直接import keras"
   ]
  },
  {
   "cell_type": "code",
   "execution_count": 11,
   "metadata": {},
   "outputs": [],
   "source": [
    "from tensorflow.keras.models import Sequential  \n",
    "from tensorflow.keras.layers import Dense, Dropout, Activation,Convolution2D, ZeroPadding2D, MaxPooling2D,Flatten\n",
    "from tensorflow.keras.optimizers import SGD  \n",
    "from tensorflow.keras.callbacks import Callback\n",
    "import numpy as np\n",
    "from sklearn.metrics import roc_auc_score"
   ]
  },
  {
   "cell_type": "code",
   "execution_count": 1,
   "metadata": {},
   "outputs": [
    {
     "name": "stdout",
     "output_type": "stream",
     "text": [
      "Training set (200000, 28, 28) (200000,)\n",
      "Validation set (10000, 28, 28) (10000,)\n",
      "Test set (10000, 28, 28) (10000,)\n"
     ]
    }
   ],
   "source": [
    "import pickle\n",
    "pickle_file = 'notMNIST.pickle'\n",
    "\n",
    "with open(pickle_file, 'rb') as f:\n",
    "  save = pickle.load(f)\n",
    "  train_dataset = save['train_dataset']\n",
    "  train_labels = save['train_labels']\n",
    "  valid_dataset = save['valid_dataset']\n",
    "  valid_labels = save['valid_labels']\n",
    "  test_dataset = save['test_dataset']\n",
    "  test_labels = save['test_labels']\n",
    "  del save  # hint to help gc free up memory\n",
    "  print('Training set', train_dataset.shape, train_labels.shape)\n",
    "  print('Validation set', valid_dataset.shape, valid_labels.shape)\n",
    "  print('Test set', test_dataset.shape, test_labels.shape)"
   ]
  },
  {
   "cell_type": "code",
   "execution_count": 2,
   "metadata": {},
   "outputs": [
    {
     "name": "stdout",
     "output_type": "stream",
     "text": [
      "Training set (200000, 28, 28, 1) (200000, 10)\n",
      "Validation set (10000, 28, 28, 1) (10000, 10)\n",
      "Test set (10000, 28, 28, 1) (10000, 10)\n"
     ]
    }
   ],
   "source": [
    "image_size = 28\n",
    "num_labels = 10\n",
    "num_channels = 1 # grayscale\n",
    "\n",
    "import numpy as np\n",
    "\n",
    "def reformat(dataset, labels):\n",
    "    dataset = dataset.reshape(\n",
    "    (-1, image_size, image_size, num_channels)).astype(np.float32)\n",
    "    labels = (np.arange(num_labels) == labels[:,None]).astype(np.float32)\n",
    "    return dataset, labels\n",
    "train_dataset, train_labels = reformat(train_dataset, train_labels)\n",
    "valid_dataset, valid_labels = reformat(valid_dataset, valid_labels)\n",
    "test_dataset, test_labels = reformat(test_dataset, test_labels)\n",
    "print('Training set', train_dataset.shape, train_labels.shape)\n",
    "print('Validation set', valid_dataset.shape, valid_labels.shape)\n",
    "print('Test set', test_dataset.shape, test_labels.shape)"
   ]
  },
  {
   "cell_type": "code",
   "execution_count": 4,
   "metadata": {},
   "outputs": [],
   "source": [
    "def accuracy(predictions, labels):\n",
    "  return (100.0 * np.sum(np.argmax(predictions, 1) == np.argmax(labels, 1))\n",
    "          / predictions.shape[0])"
   ]
  },
  {
   "cell_type": "code",
   "execution_count": 5,
   "metadata": {},
   "outputs": [],
   "source": [
    "class RocAucEvaluation(Callback):\n",
    "    def __init__(self, validation_data=(), interval=1):\n",
    "        super(Callback, self).__init__()\n",
    "\n",
    "        self.interval = interval\n",
    "        self.X_val, self.y_val = validation_data\n",
    "\n",
    "    def on_epoch_end(self, epoch, logs={}):\n",
    "        if epoch % self.interval == 0:\n",
    "            y_pred = self.model.predict(self.X_val, verbose=0)\n",
    "            score = roc_auc_score(self.y_val, y_pred)\n",
    "            accur = accuracy(y_pred,self.y_val)\n",
    "            print(\"\\n ROC-AUC - epoch: %d - score: %.6f - accuracy:  %.1f%% \\n\" % (epoch+1, score,accur))"
   ]
  },
  {
   "cell_type": "code",
   "execution_count": 6,
   "metadata": {},
   "outputs": [],
   "source": [
    "RocAuc = RocAucEvaluation(validation_data=(valid_dataset, valid_labels), interval=1)"
   ]
  },
  {
   "cell_type": "markdown",
   "metadata": {},
   "source": [
    "- CNN without pooling"
   ]
  },
  {
   "cell_type": "code",
   "execution_count": 12,
   "metadata": {},
   "outputs": [
    {
     "name": "stdout",
     "output_type": "stream",
     "text": [
      "Train on 200000 samples, validate on 10000 samples\n",
      "Epoch 1/5\n",
      "\n",
      " ROC-AUC - epoch: 1 - score: 0.988411 - accuracy:  87.0% \n",
      "\n",
      "200000/200000 - 37s - loss: 0.5659 - val_loss: 0.4272\n",
      "Epoch 2/5\n",
      "\n",
      " ROC-AUC - epoch: 2 - score: 0.990856 - accuracy:  88.5% \n",
      "\n",
      "200000/200000 - 38s - loss: 0.3867 - val_loss: 0.3777\n",
      "Epoch 3/5\n",
      "\n",
      " ROC-AUC - epoch: 3 - score: 0.991849 - accuracy:  89.2% \n",
      "\n",
      "200000/200000 - 39s - loss: 0.3461 - val_loss: 0.3585\n",
      "Epoch 4/5\n",
      "\n",
      " ROC-AUC - epoch: 4 - score: 0.992361 - accuracy:  89.6% \n",
      "\n",
      "200000/200000 - 40s - loss: 0.3222 - val_loss: 0.3466\n",
      "Epoch 5/5\n",
      "\n",
      " ROC-AUC - epoch: 5 - score: 0.993067 - accuracy:  90.2% \n",
      "\n",
      "200000/200000 - 40s - loss: 0.3060 - val_loss: 0.3281\n"
     ]
    },
    {
     "data": {
      "text/plain": [
       "<tensorflow.python.keras.callbacks.History at 0x2900a61fc18>"
      ]
     },
     "execution_count": 12,
     "metadata": {},
     "output_type": "execute_result"
    }
   ],
   "source": [
    "batch_size = 16\n",
    "patch_size = 5\n",
    "depth = 16\n",
    "num_hidden = 64\n",
    "\n",
    "model = Sequential()\n",
    "model.add(Convolution2D(depth, (patch_size,patch_size),padding = 'SAME',strides=(2,2),input_shape=(28, 28,1),activation='relu'))\n",
    "model.add(Convolution2D(depth, (patch_size, patch_size),padding = 'SAME',strides=(2,2),activation='relu'))\n",
    "model.add(Flatten())\n",
    "model.add(Dense(num_hidden,activation='relu'))\n",
    "model.add(Dense(10))\n",
    "model.add(Activation('softmax'))\n",
    "sgd = SGD(lr=0.01, decay=1e-6)\n",
    "model.compile(loss='categorical_crossentropy', optimizer=sgd) \n",
    "model.fit(train_dataset,train_labels,batch_size=batch_size,epochs=5,callbacks=[RocAuc], verbose=2,\n",
    "          validation_data=(valid_dataset, valid_labels))"
   ]
  },
  {
   "cell_type": "markdown",
   "metadata": {},
   "source": [
    "- CNN with pooling"
   ]
  },
  {
   "cell_type": "code",
   "execution_count": 13,
   "metadata": {},
   "outputs": [
    {
     "name": "stdout",
     "output_type": "stream",
     "text": [
      "Train on 200000 samples, validate on 10000 samples\n",
      "Epoch 1/5\n",
      "\n",
      " ROC-AUC - epoch: 1 - score: 0.990325 - accuracy:  88.6% \n",
      "\n",
      "200000/200000 - 78s - loss: 0.5035 - val_loss: 0.3895\n",
      "Epoch 2/5\n",
      "\n",
      " ROC-AUC - epoch: 2 - score: 0.992107 - accuracy:  89.5% \n",
      "\n",
      "200000/200000 - 80s - loss: 0.3520 - val_loss: 0.3520\n",
      "Epoch 3/5\n",
      "\n",
      " ROC-AUC - epoch: 3 - score: 0.993240 - accuracy:  90.3% \n",
      "\n",
      "200000/200000 - 81s - loss: 0.3182 - val_loss: 0.3261\n",
      "Epoch 4/5\n",
      "\n",
      " ROC-AUC - epoch: 4 - score: 0.993661 - accuracy:  90.6% \n",
      "\n",
      "200000/200000 - 80s - loss: 0.2972 - val_loss: 0.3151\n",
      "Epoch 5/5\n",
      "\n",
      " ROC-AUC - epoch: 5 - score: 0.994009 - accuracy:  90.7% \n",
      "\n",
      "200000/200000 - 81s - loss: 0.2825 - val_loss: 0.3081\n"
     ]
    },
    {
     "data": {
      "text/plain": [
       "<tensorflow.python.keras.callbacks.History at 0x2900a787048>"
      ]
     },
     "execution_count": 13,
     "metadata": {},
     "output_type": "execute_result"
    }
   ],
   "source": [
    "batch_size = 16\n",
    "patch_size = 5\n",
    "depth = 16\n",
    "num_hidden = 64\n",
    "\n",
    "model = Sequential()\n",
    "model.add(Convolution2D(depth, (patch_size,patch_size),padding = 'SAME',strides=(1,1),input_shape=(28, 28,1),activation='relu'))\n",
    "model.add(MaxPooling2D(pool_size=(2,2), strides=(2,2)))\n",
    "model.add(Convolution2D(depth, (patch_size, patch_size),padding = 'SAME',strides=(1,1),activation='relu'))\n",
    "model.add(MaxPooling2D(pool_size=(2,2), strides=(2,2)))\n",
    "model.add(Flatten())\n",
    "model.add(Dense(num_hidden,activation='relu'))\n",
    "model.add(Dense(10))\n",
    "model.add(Activation('softmax'))\n",
    "sgd = SGD(lr=0.01, decay=1e-6)\n",
    "model.compile(loss='categorical_crossentropy', optimizer=sgd) \n",
    "model.fit(train_dataset,train_labels,batch_size=batch_size,epochs=5,callbacks=[RocAuc], verbose=2,\n",
    "          validation_data=(valid_dataset, valid_labels))"
   ]
  },
  {
   "cell_type": "code",
   "execution_count": null,
   "metadata": {},
   "outputs": [],
   "source": []
  }
 ],
 "metadata": {
  "kernelspec": {
   "display_name": "Python 3",
   "language": "python",
   "name": "python3"
  },
  "language_info": {
   "codemirror_mode": {
    "name": "ipython",
    "version": 3
   },
   "file_extension": ".py",
   "mimetype": "text/x-python",
   "name": "python",
   "nbconvert_exporter": "python",
   "pygments_lexer": "ipython3",
   "version": "3.7.3"
  }
 },
 "nbformat": 4,
 "nbformat_minor": 2
}
