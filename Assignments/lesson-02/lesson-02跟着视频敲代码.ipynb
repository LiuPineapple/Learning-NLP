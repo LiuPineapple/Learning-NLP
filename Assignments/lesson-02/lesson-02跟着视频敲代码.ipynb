{
 "cells": [
  {
   "cell_type": "markdown",
   "metadata": {},
   "source": [
    "## Search policy"
   ]
  },
  {
   "cell_type": "code",
   "execution_count": 22,
   "metadata": {},
   "outputs": [],
   "source": [
    "coordination_source = \"\"\"\n",
    "{name:'兰州', geoCoord:[103.73, 36.03]},\n",
    "{name:'嘉峪关', geoCoord:[98.17, 39.47]},\n",
    "{name:'西宁', geoCoord:[101.74, 36.56]},\n",
    "{name:'成都', geoCoord:[104.06, 30.67]},\n",
    "{name:'石家庄', geoCoord:[114.48, 38.03]},\n",
    "{name:'拉萨', geoCoord:[102.73, 25.04]},\n",
    "{name:'贵阳', geoCoord:[106.71, 26.57]},\n",
    "{name:'武汉', geoCoord:[114.31, 30.52]},\n",
    "{name:'郑州', geoCoord:[113.65, 34.76]},\n",
    "{name:'济南', geoCoord:[117, 36.65]},\n",
    "{name:'南京', geoCoord:[118.78, 32.04]},\n",
    "{name:'合肥', geoCoord:[117.27, 31.86]},\n",
    "{name:'杭州', geoCoord:[120.19, 30.26]},\n",
    "{name:'南昌', geoCoord:[115.89, 28.68]},\n",
    "{name:'福州', geoCoord:[119.3, 26.08]},\n",
    "{name:'广州', geoCoord:[113.23, 23.16]},\n",
    "{name:'长沙', geoCoord:[113, 28.21]},\n",
    "//{name:'海口', geoCoord:[110.35, 20.02]},\n",
    "{name:'沈阳', geoCoord:[123.38, 41.8]},\n",
    "{name:'长春', geoCoord:[125.35, 43.88]},\n",
    "{name:'哈尔滨', geoCoord:[126.63, 45.75]},\n",
    "{name:'太原', geoCoord:[112.53, 37.87]},\n",
    "{name:'西安', geoCoord:[108.95, 34.27]},\n",
    "//{name:'台湾', geoCoord:[121.30, 25.03]},\n",
    "{name:'北京', geoCoord:[116.46, 39.92]},\n",
    "{name:'上海', geoCoord:[121.48, 31.22]},\n",
    "{name:'重庆', geoCoord:[106.54, 29.59]},\n",
    "{name:'天津', geoCoord:[117.2, 39.13]},\n",
    "{name:'呼和浩特', geoCoord:[111.65, 40.82]},\n",
    "{name:'南宁', geoCoord:[108.33, 22.84]},\n",
    "//{name:'西藏', geoCoord:[91.11, 29.97]},\n",
    "{name:'银川', geoCoord:[106.27, 38.47]},\n",
    "{name:'乌鲁木齐', geoCoord:[87.68, 43.77]},\n",
    "{name:'香港', geoCoord:[114.17, 22.28]},\n",
    "{name:'澳门', geoCoord:[113.54, 22.19]}\n",
    "\"\"\""
   ]
  },
  {
   "cell_type": "code",
   "execution_count": 23,
   "metadata": {},
   "outputs": [],
   "source": [
    "city_location = {}"
   ]
  },
  {
   "cell_type": "code",
   "execution_count": 24,
   "metadata": {},
   "outputs": [],
   "source": [
    "import re"
   ]
  },
  {
   "cell_type": "code",
   "execution_count": 3,
   "metadata": {},
   "outputs": [],
   "source": [
    "test_string = \"{name:'兰州', geoCoord:[103.73, 36.03]},\""
   ]
  },
  {
   "cell_type": "code",
   "execution_count": 15,
   "metadata": {},
   "outputs": [
    {
     "data": {
      "text/plain": [
       "[\"name:'兰州', geoCoord:[103.73, 36.03]\"]"
      ]
     },
     "execution_count": 15,
     "metadata": {},
     "output_type": "execute_result"
    }
   ],
   "source": [
    "re.findall(r\"name:'\\w+', geoCoord:\\[\\d+.\\d+, \\d+.\\d+\\]\",test_string)"
   ]
  },
  {
   "cell_type": "code",
   "execution_count": 25,
   "metadata": {},
   "outputs": [],
   "source": [
    "pattern = re.compile(r\"name:'(\\w+)',\\s+geoCoord:\\[(\\d+.\\d+),\\s+(\\d+.\\d+)\\]\")"
   ]
  },
  {
   "cell_type": "code",
   "execution_count": 35,
   "metadata": {},
   "outputs": [
    {
     "data": {
      "text/plain": [
       "[('兰州', '103.73', '36.03'),\n",
       " ('嘉峪关', '98.17', '39.47'),\n",
       " ('西宁', '101.74', '36.56'),\n",
       " ('成都', '104.06', '30.67'),\n",
       " ('石家庄', '114.48', '38.03'),\n",
       " ('拉萨', '102.73', '25.04'),\n",
       " ('贵阳', '106.71', '26.57'),\n",
       " ('武汉', '114.31', '30.52'),\n",
       " ('郑州', '113.65', '34.76'),\n",
       " ('济南', '117', '36.65'),\n",
       " ('南京', '118.78', '32.04'),\n",
       " ('合肥', '117.27', '31.86'),\n",
       " ('杭州', '120.19', '30.26'),\n",
       " ('南昌', '115.89', '28.68'),\n",
       " ('福州', '119.3', '26.08'),\n",
       " ('广州', '113.23', '23.16'),\n",
       " ('长沙', '113', '28.21'),\n",
       " ('海口', '110.35', '20.02'),\n",
       " ('沈阳', '123.38', '41.8'),\n",
       " ('长春', '125.35', '43.88'),\n",
       " ('哈尔滨', '126.63', '45.75'),\n",
       " ('太原', '112.53', '37.87'),\n",
       " ('西安', '108.95', '34.27'),\n",
       " ('台湾', '121.30', '25.03'),\n",
       " ('北京', '116.46', '39.92'),\n",
       " ('上海', '121.48', '31.22'),\n",
       " ('重庆', '106.54', '29.59'),\n",
       " ('天津', '117.2', '39.13'),\n",
       " ('呼和浩特', '111.65', '40.82'),\n",
       " ('南宁', '108.33', '22.84'),\n",
       " ('西藏', '91.11', '29.97'),\n",
       " ('银川', '106.27', '38.47'),\n",
       " ('乌鲁木齐', '87.68', '43.77'),\n",
       " ('香港', '114.17', '22.28'),\n",
       " ('澳门', '113.54', '22.19')]"
      ]
     },
     "execution_count": 35,
     "metadata": {},
     "output_type": "execute_result"
    }
   ],
   "source": [
    "pattern.findall(coordination_source)"
   ]
  },
  {
   "cell_type": "code",
   "execution_count": 26,
   "metadata": {},
   "outputs": [],
   "source": [
    "for line in coordination_source.split('\\n'):\n",
    "    city_info = pattern.findall(line)\n",
    "    if not city_info: continue\n",
    "    city, long, lat = city_info[0]\n",
    "    city_location[city] = (long, lat)"
   ]
  },
  {
   "cell_type": "code",
   "execution_count": 34,
   "metadata": {},
   "outputs": [
    {
     "data": {
      "text/plain": [
       "{'香港': ('114.17', '22.28'),\n",
       " '兰州': ('103.73', '36.03'),\n",
       " '嘉峪关': ('98.17', '39.47'),\n",
       " '西宁': ('101.74', '36.56'),\n",
       " '成都': ('104.06', '30.67'),\n",
       " '石家庄': ('114.48', '38.03'),\n",
       " '拉萨': ('102.73', '25.04'),\n",
       " '贵阳': ('106.71', '26.57'),\n",
       " '武汉': ('114.31', '30.52'),\n",
       " '郑州': ('113.65', '34.76'),\n",
       " '济南': ('117', '36.65'),\n",
       " '南京': ('118.78', '32.04'),\n",
       " '合肥': ('117.27', '31.86'),\n",
       " '杭州': ('120.19', '30.26'),\n",
       " '南昌': ('115.89', '28.68'),\n",
       " '福州': ('119.3', '26.08'),\n",
       " '广州': ('113.23', '23.16'),\n",
       " '长沙': ('113', '28.21'),\n",
       " '海口': ('110.35', '20.02'),\n",
       " '沈阳': ('123.38', '41.8'),\n",
       " '长春': ('125.35', '43.88'),\n",
       " '哈尔滨': ('126.63', '45.75'),\n",
       " '太原': ('112.53', '37.87'),\n",
       " '西安': ('108.95', '34.27'),\n",
       " '台湾': ('121.30', '25.03'),\n",
       " '北京': ('116.46', '39.92'),\n",
       " '上海': ('121.48', '31.22'),\n",
       " '重庆': ('106.54', '29.59'),\n",
       " '天津': ('117.2', '39.13'),\n",
       " '呼和浩特': ('111.65', '40.82'),\n",
       " '南宁': ('108.33', '22.84'),\n",
       " '西藏': ('91.11', '29.97'),\n",
       " '银川': ('106.27', '38.47'),\n",
       " '乌鲁木齐': ('87.68', '43.77'),\n",
       " '澳门': ('113.54', '22.19')}"
      ]
     },
     "execution_count": 34,
     "metadata": {},
     "output_type": "execute_result"
    }
   ],
   "source": [
    "city_location"
   ]
  },
  {
   "cell_type": "code",
   "execution_count": 1,
   "metadata": {},
   "outputs": [],
   "source": [
    "simple_collection_info_str = {'北京':['太原','沈阳'], \n",
    "                          '沈阳':['北京'],\n",
    "                          '太原':['北京','西安','郑州'],\n",
    "                          '郑州':['太原'],\n",
    "                          '兰州':['西安'],\n",
    "                          '西安':['兰州','长沙'],\n",
    "                          '长沙':['西安','南宁','福州']}"
   ]
  },
  {
   "cell_type": "code",
   "execution_count": 2,
   "metadata": {},
   "outputs": [],
   "source": [
    "from collections import defaultdict"
   ]
  },
  {
   "cell_type": "code",
   "execution_count": 3,
   "metadata": {},
   "outputs": [],
   "source": [
    "simple_collection_info = defaultdict(list)\n",
    "simple_collection_info.update(simple_collection_info_str)"
   ]
  },
  {
   "cell_type": "code",
   "execution_count": 18,
   "metadata": {},
   "outputs": [],
   "source": [
    "def search(start,destination,road_dict):\n",
    "    pathes = [[start]]\n",
    "    visited = set()\n",
    "    while pathes:\n",
    "        path = pathes.pop(0)\n",
    "        frontier = path[-1]\n",
    "        if frontier in visited: continue\n",
    "        successors = road_dict[frontier]\n",
    "        for i in successors:\n",
    "            new_path = path + [i]\n",
    "            pathes.append(new_path)\n",
    "            if i == destination: return new_path\n",
    "        visited.add(frontier)\n",
    "    \n",
    "    "
   ]
  },
  {
   "cell_type": "code",
   "execution_count": 29,
   "metadata": {},
   "outputs": [],
   "source": [
    "def pretty_print(cities):\n",
    "    return '=>'.join(cities)"
   ]
  },
  {
   "cell_type": "code",
   "execution_count": 30,
   "metadata": {},
   "outputs": [
    {
     "data": {
      "text/plain": [
       "'北京=>太原=>西安=>长沙=>福州'"
      ]
     },
     "execution_count": 30,
     "metadata": {},
     "output_type": "execute_result"
    }
   ],
   "source": [
    "pretty_print(search('北京','福州',simple_collection_info))"
   ]
  },
  {
   "cell_type": "code",
   "execution_count": 32,
   "metadata": {},
   "outputs": [],
   "source": [
    "from collections import defaultdict"
   ]
  },
  {
   "cell_type": "code",
   "execution_count": 36,
   "metadata": {},
   "outputs": [],
   "source": [
    "simple_collection_info = defaultdict(list)"
   ]
  },
  {
   "cell_type": "code",
   "execution_count": 37,
   "metadata": {},
   "outputs": [],
   "source": [
    "simple_collection_info.update(simple_collection_info_str)"
   ]
  },
  {
   "cell_type": "code",
   "execution_count": 59,
   "metadata": {},
   "outputs": [],
   "source": [
    "def bfs(graph,start):\n",
    "    visited = [start]\n",
    "    seen = set()\n",
    "    while visited:\n",
    "        frontier = visited.pop()\n",
    "        if frontier in seen: continue\n",
    "        for successor in graph[frontier]:\n",
    "            if successor in seen:continue\n",
    "            print(successor)\n",
    "            visited = [successor] + visited\n",
    "        seen.add(frontier)\n",
    "    return visited\n",
    "        "
   ]
  },
  {
   "cell_type": "code",
   "execution_count": 60,
   "metadata": {},
   "outputs": [
    {
     "name": "stdout",
     "output_type": "stream",
     "text": [
      "北京\n",
      "西安\n",
      "郑州\n",
      "沈阳\n",
      "兰州\n",
      "长沙\n",
      "南宁\n",
      "福州\n"
     ]
    },
    {
     "data": {
      "text/plain": [
       "[]"
      ]
     },
     "execution_count": 60,
     "metadata": {},
     "output_type": "execute_result"
    }
   ],
   "source": [
    "bfs(simple_collection_info,'太原')"
   ]
  },
  {
   "cell_type": "code",
   "execution_count": 44,
   "metadata": {},
   "outputs": [],
   "source": [
    "number_grpah = defaultdict(list)\n",
    "\n",
    "number_grpah.update({\n",
    "    1: [2, 3],\n",
    "    2: [1, 4], \n",
    "    3: [1, 5],\n",
    "    4: [2, 6], \n",
    "    5: [3, 7],\n",
    "    7: [5, 8]\n",
    "})"
   ]
  },
  {
   "cell_type": "code",
   "execution_count": 61,
   "metadata": {},
   "outputs": [
    {
     "name": "stdout",
     "output_type": "stream",
     "text": [
      "2\n",
      "3\n",
      "4\n",
      "5\n",
      "6\n",
      "7\n",
      "8\n"
     ]
    },
    {
     "data": {
      "text/plain": [
       "[]"
      ]
     },
     "execution_count": 61,
     "metadata": {},
     "output_type": "execute_result"
    }
   ],
   "source": [
    "bfs(number_grpah,1)"
   ]
  },
  {
   "cell_type": "markdown",
   "metadata": {},
   "source": [
    "## 机器学习初步"
   ]
  },
  {
   "cell_type": "code",
   "execution_count": 1,
   "metadata": {},
   "outputs": [],
   "source": [
    "from sklearn.datasets import load_boston"
   ]
  },
  {
   "cell_type": "code",
   "execution_count": 2,
   "metadata": {},
   "outputs": [],
   "source": [
    "data= load_boston()"
   ]
  },
  {
   "cell_type": "code",
   "execution_count": 3,
   "metadata": {},
   "outputs": [],
   "source": [
    "X, y = data['data'], data['target']"
   ]
  },
  {
   "cell_type": "code",
   "execution_count": 4,
   "metadata": {},
   "outputs": [],
   "source": [
    "X_rm = X[:, 5]"
   ]
  },
  {
   "cell_type": "code",
   "execution_count": 5,
   "metadata": {},
   "outputs": [],
   "source": [
    "import numpy as np"
   ]
  },
  {
   "cell_type": "code",
   "execution_count": 51,
   "metadata": {},
   "outputs": [],
   "source": [
    "def loss(y, y_hat):\n",
    "    b = np.array(y) - np.array(y_hat) \n",
    "    return b@b.T/len(y)"
   ]
  },
  {
   "cell_type": "code",
   "execution_count": 52,
   "metadata": {},
   "outputs": [],
   "source": [
    "def loss1(y, y_hat): # to evaluate the performance \n",
    "    return sum((y_i - y_hat_i)**2 for y_i, y_hat_i in zip(list(y), list(y_hat))) / len(list(y))"
   ]
  },
  {
   "cell_type": "code",
   "execution_count": 53,
   "metadata": {},
   "outputs": [],
   "source": [
    "k = 1;b =1;\n",
    "y_hat = [price(r, k, b) for r in X_rm]"
   ]
  },
  {
   "cell_type": "code",
   "execution_count": 54,
   "metadata": {},
   "outputs": [
    {
     "data": {
      "text/plain": [
       "True"
      ]
     },
     "execution_count": 54,
     "metadata": {},
     "output_type": "execute_result"
    }
   ],
   "source": [
    "loss(y, y_hat)==loss1(y, y_hat)"
   ]
  },
  {
   "cell_type": "code",
   "execution_count": 7,
   "metadata": {},
   "outputs": [],
   "source": [
    "import random"
   ]
  },
  {
   "cell_type": "code",
   "execution_count": 9,
   "metadata": {},
   "outputs": [],
   "source": [
    "def price(r,k,b):return r*k+b"
   ]
  },
  {
   "cell_type": "code",
   "execution_count": 10,
   "metadata": {},
   "outputs": [
    {
     "name": "stdout",
     "output_type": "stream",
     "text": [
      "When time is : 0, get best_k: -94.40482053512882 best_b: 85.66855041478496, and the loss is: 286396.08815830003\n",
      "When time is : 1, get best_k: 52.996020110669804 best_b: 42.889518127145664, and the loss is: 125896.66794049821\n",
      "When time is : 4, get best_k: 9.860077412431963 best_b: -32.58254311973485, and the loss is: 90.82847589269996\n",
      "When time is : 147, get best_k: 11.1820467473364 best_b: -41.2574025894473, and the loss is: 87.78551556528419\n",
      "When time is : 384, get best_k: 16.501637257019766 best_b: -81.88739299265242, and the loss is: 71.08610216207026\n",
      "When time is : 556, get best_k: 10.78445237557419 best_b: -45.77490645050215, and the loss is: 45.277373602674906\n"
     ]
    }
   ],
   "source": [
    "trying_times = 2000\n",
    "\n",
    "min_loss = float('inf')\n",
    "best_k, best_b = None, None\n",
    "\n",
    "for i in range(trying_times):\n",
    "    k = random.random() * 200 - 100\n",
    "    b = random.random() * 200 - 100\n",
    "    price_by_random_k_and_b = [price(r, k, b) for r in X_rm]\n",
    "\n",
    "    current_loss = loss(y, price_by_random_k_and_b)\n",
    "    \n",
    "    if current_loss < min_loss:\n",
    "        min_loss = current_loss\n",
    "        best_k, best_b = k, b\n",
    "        print('When time is : {}, get best_k: {} best_b: {}, and the loss is: {}'.format(i, best_k, best_b, min_loss))"
   ]
  },
  {
   "cell_type": "code",
   "execution_count": 11,
   "metadata": {},
   "outputs": [],
   "source": [
    "def partial_k(x, y, y_hat):\n",
    "    n = len(y)\n",
    "\n",
    "    gradient = 0\n",
    "    \n",
    "    for x_i, y_i, y_hat_i in zip(list(x), list(y), list(y_hat)):\n",
    "        gradient += (y_i - y_hat_i) * x_i\n",
    "    \n",
    "    return -2 / n * gradient\n",
    "\n",
    "\n",
    "def partial_b(x, y, y_hat):\n",
    "    n = len(y)\n",
    "\n",
    "    gradient = 0\n",
    "    \n",
    "    for y_i, y_hat_i in zip(list(y), list(y_hat)):\n",
    "        gradient += (y_i - y_hat_i)\n",
    "    \n",
    "    return -2 / n * gradient"
   ]
  },
  {
   "cell_type": "code",
   "execution_count": 47,
   "metadata": {},
   "outputs": [
    {
     "name": "stdout",
     "output_type": "stream",
     "text": [
      "When time is 0,k is -39.959829116154296,b is -1.2337418023630704,the loss is 76799.2697568892\n",
      "When time is 50,k is -25.539019557609198,b is 1.028335184249905,the loss is 33761.703997625744\n",
      "When time is 100,k is -15.982365493088503,b is 2.5257428622749534,the loss is 14861.915370241646\n",
      "When time is 150,k is -9.649095437027112,b is 3.5164188273695314,the loss is 6562.1412432437055\n",
      "When time is 200,k is -5.451901114816131,b is 4.171293452543453,the loss is 2917.323817652801\n",
      "When time is 250,k is -2.6702438686132384,b is 4.603639067643631,the loss is 1316.713208478114\n",
      "When time is 300,k is -0.8266363385127644,b is 4.888519106287277,the loss is 613.8083736018395\n",
      "When time is 350,k is 0.3953433307030467,b is 5.075676688202972,the loss is 305.1276707823064\n",
      "When time is 400,k is 1.2053819263029144,b is 5.1980756393242915,the loss is 169.5690209440186\n",
      "When time is 450,k is 1.7424349219067419,b is 5.277560464493608,the loss is 110.036273462908\n",
      "When time is 500,k is 2.0985854854656307,b is 5.328607104474237,the loss is 83.89001714279236\n",
      "When time is 550,k is 2.3348553932305762,b is 5.3608084917826995,the loss is 72.40531412073976\n",
      "When time is 600,k is 2.491682623822365,b is 5.380521681594651,the loss is 67.35917800603418\n",
      "When time is 650,k is 2.5958646619337578,b is 5.391959374287226,the loss is 65.14051509687074\n",
      "When time is 700,k is 2.665159694556333,b is 5.3979132468125375,the loss is 64.1635271072823\n",
      "When time is 750,k is 2.7113357368182527,b is 5.400233290737467,the loss is 63.73181665416258\n",
      "When time is 800,k is 2.7421912300888156,b is 5.400145460509533,the loss is 63.53956343260503\n",
      "When time is 850,k is 2.7628940541797538,b is 5.3984621729632805,the loss is 63.45246759998793\n",
      "When time is 900,k is 2.776868865441422,b is 5.3957218013675305,the loss is 63.41155188284281\n",
      "When time is 950,k is 2.7863851189601885,b is 5.392281115495914,the loss is 63.390916632074784\n",
      "When time is 1000,k is 2.792946739762798,b is 5.388376539915692,the loss is 63.379188113550605\n",
      "When time is 1050,k is 2.7975503505638715,b is 5.384164748698813,the loss is 63.37137159433387\n",
      "When time is 1100,k is 2.8008563944171,b is 5.379749566770204,the loss is 63.365273655992596\n",
      "When time is 1150,k is 2.80330253446421,b is 5.37519979692321,the loss is 63.359931066876364\n",
      "When time is 1200,k is 2.805178801806875,b is 5.3705610334460605,the loss is 63.35492082725637\n",
      "When time is 1250,k is 2.8066773945821106,b is 5.365863490788942,the loss is 63.35005717823065\n",
      "When time is 1300,k is 2.807925678869002,b is 5.361127191473879,the loss is 63.34525854431847\n",
      "When time is 1350,k is 2.809008057766319,b is 5.356365404024588,the loss is 63.34048910179878\n",
      "When time is 1400,k is 2.8099804636172,b is 5.3515869212176685,the loss is 63.3357331186646\n",
      "When time is 1450,k is 2.810879961732749,b is 5.346797569836645,the loss is 63.33098368611001\n",
      "When time is 1500,k is 2.811731114598281,b is 5.342001211157448,the loss is 63.32623777000491\n",
      "When time is 1550,k is 2.8125501993125934,b is 5.3372004039512575,the loss is 63.321494037768545\n",
      "When time is 1600,k is 2.813348002405324,b is 5.332396843843952,the loss is 63.316751904049305\n",
      "When time is 1650,k is 2.814131671909631,b is 5.32759165447132,the loss is 63.31201111163843\n",
      "When time is 1700,k is 2.8149059446957687,b is 5.322785580422137,the loss is 63.30727154742995\n",
      "When time is 1750,k is 2.8156739598018765,b is 5.317979115097869,the loss is 63.302533161600124\n",
      "When time is 1800,k is 2.8164377974129273,b is 5.313172585442913,the loss is 63.29779593211539\n",
      "When time is 1850,k is 2.8171988360319027,b is 5.308366208093696,the loss is 63.293059849146175\n",
      "When time is 1900,k is 2.8179579891703748,b is 5.303560126587662,the loss is 63.28832490822228\n",
      "When time is 1950,k is 2.8187158621988937,b is 5.298754436020921,the loss is 63.2835911072271\n",
      "When time is 2000,k is 2.8194728562887743,b is 5.293949199388439,the loss is 63.27885844507767\n",
      "When time is 2050,k is 2.820229237292351,b is 5.289144458412361,the loss is 63.274126921144884\n",
      "When time is 2100,k is 2.8209851813886297,b is 5.28434024071774,the loss is 63.26939653499908\n",
      "When time is 2150,k is 2.8217408053317903,b is 5.2795365645877625,the loss is 63.26466728629821\n",
      "When time is 2200,k is 2.822496186496305,b is 5.274733442114915,the loss is 63.25993917473866\n",
      "When time is 2250,k is 2.8232513761604574,b is 5.269930881289248,the loss is 63.25521220003382\n",
      "When time is 2300,k is 2.824006408309078,b is 5.265128887382215,the loss is 63.250486361904535\n",
      "When time is 2350,k is 2.8247613054669545,b is 5.260327463863678,the loss is 63.245761660074976\n",
      "When time is 2400,k is 2.825516082564513,b is 5.255526613009654,the loss is 63.241038094270806\n",
      "When time is 2450,k is 2.826270749499549,b is 5.250726336305003,the loss is 63.236315664218374\n",
      "When time is 2500,k is 2.8270253128348224,b is 5.245926634710312,the loss is 63.23159436964439\n",
      "When time is 2550,k is 2.827779776923027,b is 5.241127508838748,the loss is 63.22687421027575\n",
      "When time is 2600,k is 2.8285341446522936,b is 5.23632895907324,the loss is 63.22215518583945\n",
      "When time is 2650,k is 2.829288417940207,b is 5.2315309856441585,the loss is 63.21743729606257\n",
      "When time is 2700,k is 2.8300425980611905,b is 5.22673358868077,the loss is 63.2127205406723\n",
      "When time is 2750,k is 2.830796685863461,b is 5.221936768245354,the loss is 63.20800491939588\n",
      "When time is 2800,k is 2.8315506819127885,b is 5.217140524355785,the loss is 63.203290431960596\n",
      "When time is 2850,k is 2.832304586587775,b is 5.212344857000536,the loss is 63.19857707809386\n",
      "When time is 2900,k is 2.833058400142989,b is 5.207549766148583,the loss is 63.19386485752308\n",
      "When time is 2950,k is 2.8338121227508033,b is 5.2027552517559865,the loss is 63.189153769975775\n",
      "When time is 3000,k is 2.8345657545291187,b is 5.197961313770258,the loss is 63.18444381517953\n",
      "When time is 3050,k is 2.835319295559745,b is 5.193167952133239,the loss is 63.179734992861945\n",
      "When time is 3100,k is 2.836072745900567,b is 5.188375166783019,the loss is 63.175027302750756\n",
      "When time is 3150,k is 2.836826105593614,b is 5.183582957655209,the loss is 63.17032074457372\n",
      "When time is 3200,k is 2.8375793746704177,b is 5.178791324683768,the loss is 63.16561531805868\n",
      "When time is 3250,k is 2.8383325531555412,b is 5.174000267801575,the loss is 63.16091102293351\n",
      "When time is 3300,k is 2.839085641068936,b is 5.1692097869407965,the loss is 63.156207858926194\n",
      "When time is 3350,k is 2.8398386384274947,b is 5.164419882033119,the loss is 63.151505825764765\n",
      "When time is 3400,k is 2.84059154524608,b is 5.159630553009918,the loss is 63.14680492317731\n",
      "When time is 3450,k is 2.8413443615382157,b is 5.1548417998023774,the loss is 63.14210515089199\n",
      "When time is 3500,k is 2.8420970873165325,b is 5.150053622341535,the loss is 63.13740650863704\n",
      "When time is 3550,k is 2.8428497225930722,b is 5.145266020558355,the loss is 63.13270899614073\n",
      "When time is 3600,k is 2.8436022673794827,b is 5.140478994383748,the loss is 63.128012613131446\n",
      "When time is 3650,k is 2.844354721687149,b is 5.135692543748581,the loss is 63.12331735933758\n",
      "When time is 3700,k is 2.845107085527289,b is 5.130906668583713,the loss is 63.118623234487636\n",
      "When time is 3750,k is 2.8458593589110017,b is 5.1261213688199945,the loss is 63.11393023831017\n",
      "When time is 3800,k is 2.8466115418493114,b is 5.121336644388263,the loss is 63.1092383705338\n",
      "When time is 3850,k is 2.847363634353188,b is 5.116552495219371,the loss is 63.1045476308872\n",
      "When time is 3900,k is 2.8481156364335716,b is 5.111768921244158,the loss is 63.09985801909911\n",
      "When time is 3950,k is 2.8488675481013765,b is 5.106985922393477,the loss is 63.09516953489837\n",
      "When time is 4000,k is 2.849619369367502,b is 5.102203498598188,the loss is 63.09048217801384\n",
      "When time is 4050,k is 2.8503711002428345,b is 5.097421649789152,the loss is 63.08579594817447\n",
      "When time is 4100,k is 2.851122740738256,b is 5.092640375897243,the loss is 63.08111084510926\n",
      "When time is 4150,k is 2.851874290864639,b is 5.087859676853344,the loss is 63.07642686854729\n",
      "When time is 4200,k is 2.8526257506328547,b is 5.083079552588335,the loss is 63.07174401821771\n",
      "When time is 4250,k is 2.8533771200537688,b is 5.078300003033122,the loss is 63.06706229384971\n",
      "When time is 4300,k is 2.8541283991382493,b is 5.073521028118597,the loss is 63.06238169517257\n",
      "When time is 4350,k is 2.8548795878971567,b is 5.068742627775678,the loss is 63.05770222191561\n",
      "When time is 4400,k is 2.8556306863413528,b is 5.063964801935286,the loss is 63.05302387380826\n",
      "When time is 4450,k is 2.856381694481696,b is 5.059187550528349,the loss is 63.04834665057995\n",
      "When time is 4500,k is 2.857132612329046,b is 5.054410873485799,the loss is 63.04367055196023\n",
      "When time is 4550,k is 2.8578834398942567,b is 5.049634770738585,the loss is 63.038995577678676\n",
      "When time is 4600,k is 2.8586341771881836,b is 5.044859242217658,the loss is 63.03432172746499\n",
      "When time is 4650,k is 2.8593848242216793,b is 5.040084287853982,the loss is 63.02964900104885\n",
      "When time is 4700,k is 2.860135381005597,b is 5.0353099075785215,the loss is 63.02497739816007\n",
      "When time is 4750,k is 2.860885847550784,b is 5.030536101322257,the loss is 63.0203069185285\n",
      "When time is 4800,k is 2.8616362238680946,b is 5.025762869016177,the loss is 63.015637561884056\n",
      "When time is 4850,k is 2.8623865099683736,b is 5.020990210591275,the loss is 63.01096932795673\n",
      "When time is 4900,k is 2.8631367058624706,b is 5.016218125978552,the loss is 63.00630221647657\n"
     ]
    },
    {
     "name": "stdout",
     "output_type": "stream",
     "text": [
      "When time is 4950,k is 2.863886811561229,b is 5.011446615109018,the loss is 63.0016362271737\n",
      "When time is 5000,k is 2.864636827075493,b is 5.006675677913695,the loss is 62.996971359778264\n",
      "When time is 5050,k is 2.865386752416104,b is 5.001905314323614,the loss is 62.99230761402055\n",
      "When time is 5100,k is 2.866136587593906,b is 4.997135524269804,the loss is 62.987644989630844\n",
      "When time is 5150,k is 2.8668863326197394,b is 4.992366307683311,the loss is 62.98298348633951\n",
      "When time is 5200,k is 2.867635987504441,b is 4.987597664495194,the loss is 62.97832310387704\n",
      "When time is 5250,k is 2.868385552258849,b is 4.982829594636509,the loss is 62.973663841973874\n",
      "When time is 5300,k is 2.8691350268937996,b is 4.978062098038322,the loss is 62.96900570036061\n",
      "When time is 5350,k is 2.8698844114201285,b is 4.9732951746317156,the loss is 62.964348678767884\n",
      "When time is 5400,k is 2.870633705848669,b is 4.96852882434777,the loss is 62.959692776926374\n",
      "When time is 5450,k is 2.8713829101902557,b is 4.963763047117585,the loss is 62.955037994566865\n",
      "When time is 5500,k is 2.872132024455715,b is 4.958997842872262,the loss is 62.950384331420175\n",
      "When time is 5550,k is 2.8728810486558793,b is 4.954233211542909,the loss is 62.945731787217206\n",
      "When time is 5600,k is 2.8736299828015777,b is 4.949469153060645,the loss is 62.941080361688904\n",
      "When time is 5650,k is 2.8743788269036354,b is 4.944705667356599,the loss is 62.936430054566294\n",
      "When time is 5700,k is 2.87512758097288,b is 4.939942754361906,the loss is 62.93178086558046\n",
      "When time is 5750,k is 2.8758762450201356,b is 4.935180414007711,the loss is 62.92713279446256\n",
      "When time is 5800,k is 2.8766248190562256,b is 4.930418646225164,the loss is 62.9224858409438\n",
      "When time is 5850,k is 2.877373303091971,b is 4.9256574509454225,the loss is 62.91784000475547\n",
      "When time is 5900,k is 2.878121697138194,b is 4.920896828099659,the loss is 62.91319528562891\n",
      "When time is 5950,k is 2.878870001205713,b is 4.916136777619051,the loss is 62.90855168329553\n",
      "When time is 6000,k is 2.8796182153053445,b is 4.911377299434778,the loss is 62.903909197486804\n",
      "When time is 6050,k is 2.8803663394479075,b is 4.906618393478039,the loss is 62.899267827934274\n",
      "When time is 6100,k is 2.88111437364422,b is 4.901860059680034,the loss is 62.894627574369544\n",
      "When time is 6150,k is 2.8818623179050893,b is 4.897102297971972,the loss is 62.889988436524256\n",
      "When time is 6200,k is 2.8826101722413324,b is 4.892345108285073,the loss is 62.88535041413019\n",
      "When time is 6250,k is 2.883357936663762,b is 4.887588490550563,the loss is 62.88071350691909\n",
      "When time is 6300,k is 2.8841056111831866,b is 4.882832444699675,the loss is 62.87607771462287\n",
      "When time is 6350,k is 2.8848531958104138,b is 4.878076970663651,the loss is 62.871443036973425\n",
      "When time is 6400,k is 2.8856006905562546,b is 4.873322068373748,the loss is 62.866809473702766\n",
      "When time is 6450,k is 2.886348095431513,b is 4.868567737761221,the loss is 62.86217702454291\n",
      "When time is 6500,k is 2.8870954104469946,b is 4.863813978757338,the loss is 62.85754568922601\n",
      "When time is 6550,k is 2.887842635613502,b is 4.859060791293378,the loss is 62.85291546748423\n",
      "When time is 6600,k is 2.88858977094184,b is 4.854308175300621,the loss is 62.84828635904984\n",
      "When time is 6650,k is 2.8893368164428077,b is 4.849556130710359,the loss is 62.84365836365512\n",
      "When time is 6700,k is 2.890083772127206,b is 4.8448046574539,the loss is 62.83903148103249\n",
      "When time is 6750,k is 2.8908306380058337,b is 4.840053755462544,the loss is 62.83440571091434\n",
      "When time is 6800,k is 2.891577414089487,b is 4.8353034246676145,the loss is 62.829781053033216\n",
      "When time is 6850,k is 2.8923241003889646,b is 4.830553665000434,the loss is 62.825157507121666\n",
      "When time is 6900,k is 2.893070696915059,b is 4.825804476392341,the loss is 62.82053507291235\n",
      "When time is 6950,k is 2.8938172036785623,b is 4.821055858774676,the loss is 62.81591375013792\n",
      "When time is 7000,k is 2.894563620690266,b is 4.816307812078789,the loss is 62.8112935385312\n",
      "When time is 7050,k is 2.8953099479609627,b is 4.811560336236033,the loss is 62.80667443782496\n",
      "When time is 7100,k is 2.8960561855014437,b is 4.8068134311777815,the loss is 62.80205644775212\n",
      "When time is 7150,k is 2.8968023333224964,b is 4.802067096835407,the loss is 62.79743956804563\n",
      "When time is 7200,k is 2.8975483914349063,b is 4.797321333140293,the loss is 62.79282379843851\n",
      "When time is 7250,k is 2.8982943598494586,b is 4.792576140023831,the loss is 62.78820913866384\n",
      "When time is 7300,k is 2.89904023857694,b is 4.7878315174174215,the loss is 62.78359558845478\n",
      "When time is 7350,k is 2.89978602762813,b is 4.78308746525247,the loss is 62.77898314754452\n",
      "When time is 7400,k is 2.900531727013814,b is 4.778343983460395,the loss is 62.774371815666356\n",
      "When time is 7450,k is 2.9012773367447684,b is 4.773601071972624,the loss is 62.76976159255361\n",
      "When time is 7500,k is 2.9020228568317763,b is 4.768858730720588,the loss is 62.76515247793971\n",
      "When time is 7550,k is 2.9027682872856126,b is 4.7641169596357225,the loss is 62.760544471558106\n",
      "When time is 7600,k is 2.903513628117054,b is 4.759375758649483,the loss is 62.75593757314233\n",
      "When time is 7650,k is 2.9042588793368775,b is 4.754635127693326,the loss is 62.751331782426\n",
      "When time is 7700,k is 2.9050040409558564,b is 4.749895066698716,the loss is 62.74672709914275\n",
      "When time is 7750,k is 2.905749112984762,b is 4.745155575597129,the loss is 62.74212352302631\n",
      "When time is 7800,k is 2.906494095434369,b is 4.740416654320049,the loss is 62.73752105381049\n",
      "When time is 7850,k is 2.907238988315444,b is 4.735678302798965,the loss is 62.73291969122913\n",
      "When time is 7900,k is 2.907983791638757,b is 4.730940520965371,the loss is 62.72831943501613\n",
      "When time is 7950,k is 2.908728505415076,b is 4.726203308750779,the loss is 62.7237202849055\n",
      "When time is 8000,k is 2.9094731296551655,b is 4.721466666086701,the loss is 62.71912224063127\n",
      "When time is 8050,k is 2.910217664369791,b is 4.7167305929046615,the loss is 62.71452530192754\n",
      "When time is 8100,k is 2.9109621095697165,b is 4.711995089136194,the loss is 62.70992946852849\n",
      "When time is 8150,k is 2.911706465265704,b is 4.707260154712838,the loss is 62.70533474016837\n",
      "When time is 8200,k is 2.912450731468514,b is 4.702525789566144,the loss is 62.700741116581455\n",
      "When time is 8250,k is 2.913194908188908,b is 4.697791993627664,the loss is 62.69614859750212\n",
      "When time is 8300,k is 2.913938995437643,b is 4.693058766828968,the loss is 62.69155718266482\n",
      "When time is 8350,k is 2.9146829932254756,b is 4.688326109101619,the loss is 62.68696687180401\n",
      "When time is 8400,k is 2.9154269015631624,b is 4.683594020377208,the loss is 62.68237766465426\n",
      "When time is 8450,k is 2.9161707204614564,b is 4.678862500587315,the loss is 62.677789560950174\n",
      "When time is 8500,k is 2.916914449931115,b is 4.674131549663551,the loss is 62.67320256042647\n",
      "When time is 8550,k is 2.917658089982887,b is 4.66940116753751,the loss is 62.668616662817875\n",
      "When time is 8600,k is 2.918401640627522,b is 4.6646713541408085,the loss is 62.66403186785917\n",
      "When time is 8650,k is 2.9191451018757717,b is 4.659942109405073,the loss is 62.6594481752853\n",
      "When time is 8700,k is 2.9198884737383826,b is 4.655213433261931,the loss is 62.65486558483115\n",
      "When time is 8750,k is 2.9206317562260997,b is 4.650485325643023,the loss is 62.650284096231736\n",
      "When time is 8800,k is 2.9213749493496723,b is 4.6457577864799955,the loss is 62.645703709222126\n",
      "When time is 8850,k is 2.922118053119843,b is 4.641030815704498,the loss is 62.641124423537434\n",
      "When time is 8900,k is 2.922861067547357,b is 4.636304413248198,the loss is 62.63654623891289\n",
      "When time is 8950,k is 2.9236039926429522,b is 4.631578579042768,the loss is 62.63196915508371\n",
      "When time is 9000,k is 2.9243468284173697,b is 4.626853313019887,the loss is 62.62739317178524\n",
      "When time is 9050,k is 2.9250895748813495,b is 4.62212861511124,the loss is 62.62281828875286\n",
      "When time is 9100,k is 2.9258322320456283,b is 4.617404485248528,the loss is 62.61824450572201\n",
      "When time is 9150,k is 2.926574799920944,b is 4.612680923363452,the loss is 62.61367182242821\n",
      "When time is 9200,k is 2.92731727851803,b is 4.607957929387726,the loss is 62.60910023860704\n",
      "When time is 9250,k is 2.9280596678476196,b is 4.603235503253069,the loss is 62.60452975399412\n",
      "When time is 9300,k is 2.9288019679204464,b is 4.598513644891215,the loss is 62.59996036832516\n",
      "When time is 9350,k is 2.929544178747244,b is 4.593792354233897,the loss is 62.595392081335945\n",
      "When time is 9400,k is 2.9302863003387403,b is 4.5890716312128585,the loss is 62.59082489276228\n"
     ]
    },
    {
     "name": "stdout",
     "output_type": "stream",
     "text": [
      "When time is 9450,k is 2.9310283327056643,b is 4.584351475759859,the loss is 62.58625880234006\n",
      "When time is 9500,k is 2.9317702758587427,b is 4.579631887806656,the loss is 62.581693809805266\n",
      "When time is 9550,k is 2.9325121298087007,b is 4.574912867285022,the loss is 62.57712991489389\n",
      "When time is 9600,k is 2.933253894566265,b is 4.5701944141267346,the loss is 62.572567117342025\n",
      "When time is 9650,k is 2.93399557014216,b is 4.565476528263577,the loss is 62.568005416885825\n",
      "When time is 9700,k is 2.9347371565471048,b is 4.5607592096273475,the loss is 62.5634448132615\n",
      "When time is 9750,k is 2.9354786537918223,b is 4.5560424581498475,the loss is 62.5588853062053\n",
      "When time is 9800,k is 2.936220061887032,b is 4.551326273762889,the loss is 62.55432689545358\n",
      "When time is 9850,k is 2.9369613808434516,b is 4.5466106563982915,the loss is 62.54976958074275\n",
      "When time is 9900,k is 2.937702610671798,b is 4.541895605987883,the loss is 62.54521336180926\n",
      "When time is 9950,k is 2.9384437513827875,b is 4.537181122463496,the loss is 62.540658238389646\n",
      "When time is 10000,k is 2.9391848029871364,b is 4.532467205756976,the loss is 62.5361042102205\n",
      "When time is 10050,k is 2.939925765495554,b is 4.527753855800174,the loss is 62.53155127703846\n",
      "When time is 10100,k is 2.9406666389187563,b is 4.52304107252495,the loss is 62.526999438580255\n",
      "When time is 10150,k is 2.9414074232674507,b is 4.518328855863173,the loss is 62.52244869458267\n",
      "When time is 10200,k is 2.9421481185523493,b is 4.513617205746722,the loss is 62.51789904478253\n",
      "When time is 10250,k is 2.9428887247841593,b is 4.5089061221074855,the loss is 62.51335048891678\n",
      "When time is 10300,k is 2.943629241973585,b is 4.504195604877344,the loss is 62.50880302672233\n",
      "When time is 10350,k is 2.9443696701313335,b is 4.499485653988211,the loss is 62.50425665793629\n",
      "When time is 10400,k is 2.94511000926811,b is 4.494776269371991,the loss is 62.499711382295686\n",
      "When time is 10450,k is 2.945850259394617,b is 4.4900674509606,the loss is 62.49516719953773\n",
      "When time is 10500,k is 2.9465904205215554,b is 4.485359198685968,the loss is 62.49062410939962\n",
      "When time is 10550,k is 2.947330492659627,b is 4.480651512480025,the loss is 62.48608211161863\n",
      "When time is 10600,k is 2.948070475819529,b is 4.4759443922747115,the loss is 62.48154120593213\n",
      "When time is 10650,k is 2.9488103700119592,b is 4.471237838001984,the loss is 62.47700139207755\n",
      "When time is 10700,k is 2.949550175247614,b is 4.466531849593792,the loss is 62.472462669792314\n",
      "When time is 10750,k is 2.9502898915371927,b is 4.461826426982107,the loss is 62.467925038814016\n",
      "When time is 10800,k is 2.951029518891385,b is 4.457121570098903,the loss is 62.46338849888023\n",
      "When time is 10850,k is 2.9517690573208837,b is 4.452417278876168,the loss is 62.45885304972862\n",
      "When time is 10900,k is 2.952508506836381,b is 4.447713553245889,the loss is 62.45431869109693\n",
      "When time is 10950,k is 2.9532478674485656,b is 4.443010393140064,the loss is 62.44978542272292\n",
      "When time is 11000,k is 2.953987139168129,b is 4.438307798490708,the loss is 62.44525324434448\n",
      "When time is 11050,k is 2.9547263220057576,b is 4.433605769229825,the loss is 62.44072215569951\n",
      "When time is 11100,k is 2.955465415972138,b is 4.42890430528945,the loss is 62.436192156526\n",
      "When time is 11150,k is 2.956204421077953,b is 4.424203406601609,the loss is 62.43166324656198\n",
      "When time is 11200,k is 2.9569433373338865,b is 4.419503073098343,the loss is 62.42713542554558\n",
      "When time is 11250,k is 2.9576821647506226,b is 4.414803304711699,the loss is 62.422608693214926\n",
      "When time is 11300,k is 2.9584209033388427,b is 4.410104101373735,the loss is 62.418083049308294\n",
      "When time is 11350,k is 2.9591595531092225,b is 4.405405463016513,the loss is 62.41355849356396\n",
      "When time is 11400,k is 2.9598981140724447,b is 4.400707389572112,the loss is 62.409035025720286\n",
      "When time is 11450,k is 2.9606365862391866,b is 4.39600988097261,the loss is 62.40451264551569\n",
      "When time is 11500,k is 2.961374969620121,b is 4.3913129371500945,the loss is 62.39999135268865\n",
      "When time is 11550,k is 2.962113264225926,b is 4.386616558036665,the loss is 62.39547114697774\n",
      "When time is 11600,k is 2.962851470067272,b is 4.381920743564425,the loss is 62.39095202812154\n",
      "When time is 11650,k is 2.9635895871548326,b is 4.3772254936654935,the loss is 62.38643399585874\n",
      "When time is 11700,k is 2.964327615499278,b is 4.372530808271989,the loss is 62.38191704992806\n",
      "When time is 11750,k is 2.9650655551112783,b is 4.367836687316041,the loss is 62.37740119006832\n",
      "When time is 11800,k is 2.9658034060015006,b is 4.363143130729786,the loss is 62.37288641601837\n",
      "When time is 11850,k is 2.9665411681806124,b is 4.358450138445372,the loss is 62.36837272751713\n",
      "When time is 11900,k is 2.9672788416592804,b is 4.353757710394954,the loss is 62.363860124303585\n",
      "When time is 11950,k is 2.9680164264481674,b is 4.349065846510697,the loss is 62.3593486061168\n",
      "When time is 12000,k is 2.9687539225579385,b is 4.344374546724773,the loss is 62.35483817269586\n",
      "When time is 12050,k is 2.9694913299992516,b is 4.339683810969352,the loss is 62.35032882377996\n",
      "When time is 12100,k is 2.970228648782771,b is 4.334993639176627,the loss is 62.34582055910835\n",
      "When time is 12150,k is 2.970965878919155,b is 4.330304031278793,the loss is 62.341313378420296\n",
      "When time is 12200,k is 2.9717030204190635,b is 4.325614987208052,the loss is 62.33680728145519\n",
      "When time is 12250,k is 2.97244007329315,b is 4.320926506896617,the loss is 62.33230226795244\n",
      "When time is 12300,k is 2.97317703755207,b is 4.316238590276708,the loss is 62.327798337651544\n",
      "When time is 12350,k is 2.9739139132064794,b is 4.311551237280554,the loss is 62.323295490292054\n",
      "When time is 12400,k is 2.9746507002670293,b is 4.306864447840389,the loss is 62.318793725613574\n",
      "When time is 12450,k is 2.9753873987443735,b is 4.302178221888456,the loss is 62.31429304335579\n",
      "When time is 12500,k is 2.9761240086491596,b is 4.297492559357011,the loss is 62.30979344325845\n",
      "When time is 12550,k is 2.9768605299920394,b is 4.292807460178309,the loss is 62.30529492506132\n",
      "When time is 12600,k is 2.9775969627836565,b is 4.288122924284626,the loss is 62.3007974885043\n",
      "When time is 12650,k is 2.978333307034662,b is 4.283438951608234,the loss is 62.2963011333273\n",
      "When time is 12700,k is 2.9790695627556993,b is 4.278755542081423,the loss is 62.29180585927031\n",
      "When time is 12750,k is 2.9798057299574108,b is 4.274072695636475,the loss is 62.28731166607338\n",
      "When time is 12800,k is 2.9805418086504405,b is 4.269390412205701,the loss is 62.28281855347665\n",
      "When time is 12850,k is 2.9812777988454298,b is 4.26470869172141,the loss is 62.27832652122025\n",
      "When time is 12900,k is 2.982013700553017,b is 4.260027534115915,the loss is 62.27383556904446\n",
      "When time is 12950,k is 2.9827495137838445,b is 4.2553469393215435,the loss is 62.26934569668955\n",
      "When time is 13000,k is 2.983485238548545,b is 4.250666907270629,the loss is 62.26485690389591\n",
      "When time is 13050,k is 2.9842208748577583,b is 4.245987437895516,the loss is 62.26036919040395\n",
      "When time is 13100,k is 2.9849564227221195,b is 4.241308531128551,the loss is 62.255882555954166\n",
      "When time is 13150,k is 2.98569188215226,b is 4.236630186902095,the loss is 62.25139700028711\n",
      "When time is 13200,k is 2.986427253158814,b is 4.231952405148514,the loss is 62.24691252314338\n",
      "When time is 13250,k is 2.9871625357524114,b is 4.227275185800176,the loss is 62.24242912426368\n",
      "When time is 13300,k is 2.9878977299436804,b is 4.22259852878947,the loss is 62.237946803388716\n",
      "When time is 13350,k is 2.988632835743255,b is 4.217922434048788,the loss is 62.233465560259326\n",
      "When time is 13400,k is 2.989367853161758,b is 4.213246901510521,the loss is 62.22898539461634\n",
      "When time is 13450,k is 2.9901027822098154,b is 4.208571931107084,the loss is 62.2245063062007\n",
      "When time is 13500,k is 2.9908376228980544,b is 4.20389752277089,the loss is 62.22002829475339\n",
      "When time is 13550,k is 2.9915723752370935,b is 4.199223676434361,the loss is 62.215551360015446\n",
      "When time is 13600,k is 2.9923070392375597,b is 4.194550392029928,the loss is 62.211075501728004\n",
      "When time is 13650,k is 2.993041614910073,b is 4.18987766949003,the loss is 62.20660071963222\n",
      "When time is 13700,k is 2.9937761022652514,b is 4.1852055087471145,the loss is 62.202127013469344\n",
      "When time is 13750,k is 2.994510501313715,b is 4.180533909733642,the loss is 62.197654382980666\n",
      "When time is 13800,k is 2.99524481206608,b is 4.175862872382076,the loss is 62.19318282790756\n",
      "When time is 13850,k is 2.9959790345329633,b is 4.171192396624881,the loss is 62.18871234799143\n",
      "When time is 13900,k is 2.9967131687249773,b is 4.16652248239454,the loss is 62.18424294297377\n",
      "When time is 13950,k is 2.9974472146527353,b is 4.161853129623544,the loss is 62.179774612596134\n"
     ]
    },
    {
     "name": "stdout",
     "output_type": "stream",
     "text": [
      "When time is 14000,k is 2.998181172326851,b is 4.157184338244386,the loss is 62.17530735660012\n",
      "When time is 14050,k is 2.998915041757933,b is 4.152516108189576,the loss is 62.1708411747274\n",
      "When time is 14100,k is 2.9996488229565923,b is 4.14784843939162,the loss is 62.166376066719714\n",
      "When time is 14150,k is 3.000382515933437,b is 4.143181331783041,the loss is 62.16191203231887\n",
      "When time is 14200,k is 3.0011161206990726,b is 4.138514785296369,the loss is 62.157449071266704\n",
      "When time is 14250,k is 3.001849637264106,b is 4.133848799864136,the loss is 62.15298718330514\n",
      "When time is 14300,k is 3.0025830656391412,b is 4.1291833754188945,the loss is 62.148526368176185\n",
      "When time is 14350,k is 3.0033164058347794,b is 4.124518511893191,the loss is 62.14406662562183\n",
      "When time is 14400,k is 3.0040496578616254,b is 4.11985420921959,the loss is 62.13960795538426\n",
      "When time is 14450,k is 3.004782821730277,b is 4.115190467330661,the loss is 62.13515035720555\n",
      "When time is 14500,k is 3.0055158974513363,b is 4.110527286158984,the loss is 62.13069383082801\n",
      "When time is 14550,k is 3.0062488850353963,b is 4.105864665637136,the loss is 62.12623837599389\n",
      "When time is 14600,k is 3.006981784493058,b is 4.101202605697717,the loss is 62.12178399244556\n",
      "When time is 14650,k is 3.007714595834916,b is 4.096541106273328,the loss is 62.11733067992542\n",
      "When time is 14700,k is 3.0084473190715637,b is 4.09188016729658,the loss is 62.112878438175976\n",
      "When time is 14750,k is 3.009179954213595,b is 4.087219788700086,the loss is 62.108427266939735\n",
      "When time is 14800,k is 3.009912501271598,b is 4.082559970416476,the loss is 62.10397716595932\n",
      "When time is 14850,k is 3.010644960256167,b is 4.077900712378388,the loss is 62.099528134977405\n",
      "When time is 14900,k is 3.0113773311778878,b is 4.073242014518456,the loss is 62.09508017373668\n",
      "When time is 14950,k is 3.0121096140473513,b is 4.068583876769334,the loss is 62.09063328197997\n",
      "When time is 15000,k is 3.0128418088751423,b is 4.063926299063681,the loss is 62.08618745945009\n",
      "When time is 15050,k is 3.013573915671846,b is 4.059269281334163,the loss is 62.08174270588998\n",
      "When time is 15100,k is 3.0143059344480463,b is 4.054612823513452,the loss is 62.07729902104259\n",
      "When time is 15150,k is 3.015037865214325,b is 4.049956925534232,the loss is 62.07285640465098\n",
      "When time is 15200,k is 3.015769707981265,b is 4.045301587329195,the loss is 62.068414856458226\n",
      "When time is 15250,k is 3.0165014627594458,b is 4.04064680883104,the loss is 62.06397437620748\n",
      "When time is 15300,k is 3.017233129559445,b is 4.035992589972476,the loss is 62.059534963641994\n",
      "When time is 15350,k is 3.017964708391843,b is 4.031338930686213,the loss is 62.055096618505026\n",
      "When time is 15400,k is 3.018696199267213,b is 4.0266858309049764,the loss is 62.05065934053993\n",
      "When time is 15450,k is 3.019427602196132,b is 4.022033290561498,the loss is 62.046223129490095\n",
      "When time is 15500,k is 3.0201589171891734,b is 4.017381309588521,the loss is 62.04178798509901\n",
      "When time is 15550,k is 3.0208901442569087,b is 4.012729887918789,the loss is 62.03735390711019\n",
      "When time is 15600,k is 3.021621283409909,b is 4.008079025485057,the loss is 62.03292089526723\n",
      "When time is 15650,k is 3.0223523346587453,b is 4.003428722220087,the loss is 62.02848894931377\n",
      "When time is 15700,k is 3.023083298013985,b is 3.9987789780566563,the loss is 62.02405806899354\n",
      "When time is 15750,k is 3.023814173486199,b is 3.994129792927538,the loss is 62.01962825405032\n",
      "When time is 15800,k is 3.0245449610859474,b is 3.9894811667655232,the loss is 62.01519950422793\n",
      "When time is 15850,k is 3.025275660823798,b is 3.9848330995034065,the loss is 62.010771819270275\n",
      "When time is 15900,k is 3.026006272710316,b is 3.980185591073994,the loss is 62.006345198921295\n",
      "When time is 15950,k is 3.0267367967560608,b is 3.975538641410095,the loss is 62.00191964292505\n",
      "When time is 16000,k is 3.027467232971596,b is 3.9708922504445328,the loss is 61.9974951510256\n",
      "When time is 16050,k is 3.0281975813674804,b is 3.966246418110133,the loss is 61.993071722967095\n",
      "When time is 16100,k is 3.028927841954271,b is 3.9616011443397356,the loss is 61.988649358493745\n",
      "When time is 16150,k is 3.029658014742527,b is 3.9569564290661807,the loss is 61.98422805734981\n",
      "When time is 16200,k is 3.0303880997428045,b is 3.9523122722223225,the loss is 61.97980781927962\n",
      "When time is 16250,k is 3.0311180969656566,b is 3.9476686737410196,the loss is 61.97538864402756\n",
      "When time is 16300,k is 3.031848006421638,b is 3.943025633555144,the loss is 61.970970531338104\n",
      "When time is 16350,k is 3.032577828121299,b is 3.938383151597572,the loss is 61.966553480955746\n",
      "When time is 16400,k is 3.033307562075191,b is 3.933741227801187,the loss is 61.96213749262507\n",
      "When time is 16450,k is 3.034037208293866,b is 3.9290998620988833,the loss is 61.957722566090695\n",
      "When time is 16500,k is 3.03476676678787,b is 3.9244590544235596,the loss is 61.95330870109735\n",
      "When time is 16550,k is 3.0354962375677514,b is 3.9198188047081257,the loss is 61.94889589738976\n",
      "When time is 16600,k is 3.036225620644053,b is 3.915179112885499,the loss is 61.944484154712775\n",
      "When time is 16650,k is 3.036954916027323,b is 3.910539978888604,the loss is 61.94007347281127\n",
      "When time is 16700,k is 3.0376841237281016,b is 3.9059014026503744,the loss is 61.93566385143017\n",
      "When time is 16750,k is 3.0384132437569353,b is 3.9012633841037516,the loss is 61.9312552903145\n",
      "When time is 16800,k is 3.0391422761243607,b is 3.896625923181684,the loss is 61.926847789209326\n",
      "When time is 16850,k is 3.0398712208409187,b is 3.8919890198171276,the loss is 61.922441347859746\n",
      "When time is 16900,k is 3.040600077917147,b is 3.887352673943052,the loss is 61.918035966010976\n",
      "When time is 16950,k is 3.0413288473635824,b is 3.882716885492428,the loss is 61.91363164340827\n",
      "When time is 17000,k is 3.042057529190761,b is 3.878081654398237,the loss is 61.90922837979693\n",
      "When time is 17050,k is 3.0427861234092175,b is 3.8734469805934704,the loss is 61.90482617492233\n",
      "When time is 17100,k is 3.0435146300294833,b is 3.868812864011121,the loss is 61.90042502852988\n",
      "When time is 17150,k is 3.0442430490620924,b is 3.8641793045841997,the loss is 61.896024940365116\n",
      "When time is 17200,k is 3.044971380517575,b is 3.8595463022457173,the loss is 61.89162591017355\n",
      "When time is 17250,k is 3.045699624406457,b is 3.8549138569286976,the loss is 61.88722793770085\n",
      "When time is 17300,k is 3.0464277807392723,b is 3.8502819685661693,the loss is 61.88283102269264\n",
      "When time is 17350,k is 3.0471558495265443,b is 3.845650637091171,the loss is 61.87843516489471\n",
      "When time is 17400,k is 3.0478838307787983,b is 3.8410198624367484,the loss is 61.874040364052824\n",
      "When time is 17450,k is 3.048611724506559,b is 3.8363896445359544,the loss is 61.869646619912864\n",
      "When time is 17500,k is 3.0493395307203492,b is 3.831759983321851,the loss is 61.865253932220725\n",
      "When time is 17550,k is 3.0500672494306915,b is 3.82713087872751,the loss is 61.86086230072243\n",
      "When time is 17600,k is 3.0507948806481067,b is 3.822502330686008,the loss is 61.856471725164\n",
      "When time is 17650,k is 3.0515224243831143,b is 3.8178743391304337,the loss is 61.852082205291545\n",
      "When time is 17700,k is 3.052249880646228,b is 3.813246903993879,the loss is 61.84769374085123\n",
      "When time is 17750,k is 3.0529772494479688,b is 3.808620025209445,the loss is 61.84330633158929\n",
      "When time is 17800,k is 3.05370453079885,b is 3.803993702710244,the loss is 61.838919977252004\n",
      "When time is 17850,k is 3.0544317247093877,b is 3.799367936429394,the loss is 61.83453467758574\n",
      "When time is 17900,k is 3.055158831190093,b is 3.7947427263000217,the loss is 61.830150432336886\n",
      "When time is 17950,k is 3.0558858502514794,b is 3.790118072255262,the loss is 61.82576724125192\n",
      "When time is 18000,k is 3.0566127819040556,b is 3.7854939742282565,the loss is 61.821385104077386\n",
      "When time is 18050,k is 3.0573396261583317,b is 3.7808704321521565,the loss is 61.817004020559864\n",
      "When time is 18100,k is 3.0580663830248116,b is 3.7762474459601183,the loss is 61.81262399044604\n",
      "When time is 18150,k is 3.0587930525140075,b is 3.7716250155853097,the loss is 61.80824501348258\n",
      "When time is 18200,k is 3.0595196346364224,b is 3.7670031409609073,the loss is 61.80386708941631\n",
      "When time is 18250,k is 3.06024612940256,b is 3.7623818220200915,the loss is 61.79949021799403\n",
      "When time is 18300,k is 3.0609725368229226,b is 3.7577610586960537,the loss is 61.795114398962646\n",
      "When time is 18350,k is 3.061698856908012,b is 3.7531408509219952,the loss is 61.79073963206914\n",
      "When time is 18400,k is 3.062425089668329,b is 3.7485211986311167,the loss is 61.78636591706051\n",
      "When time is 18450,k is 3.063151235114373,b is 3.743902101756637,the loss is 61.78199325368385\n",
      "When time is 18500,k is 3.0638772932566427,b is 3.7392835602317795,the loss is 61.77762164168628\n",
      "When time is 18550,k is 3.0646032641056324,b is 3.7346655739897736,the loss is 61.773251080815044\n",
      "When time is 18600,k is 3.0653291476718376,b is 3.730048142963858,the loss is 61.76888157081736\n",
      "When time is 18650,k is 3.066054943965751,b is 3.72543126708728,the loss is 61.764513111440564\n",
      "When time is 18700,k is 3.0667806529978687,b is 3.7208149462932942,the loss is 61.76014570243207\n",
      "When time is 18750,k is 3.067506274778678,b is 3.716199180515165,the loss is 61.75577934353929\n",
      "When time is 18800,k is 3.068231809318672,b is 3.711583969686161,the loss is 61.751414034509736\n",
      "When time is 18850,k is 3.068957256628339,b is 3.7069693137395645,the loss is 61.747049775090986\n"
     ]
    },
    {
     "name": "stdout",
     "output_type": "stream",
     "text": [
      "When time is 18900,k is 3.0696826167181666,b is 3.70235521260866,the loss is 61.74268656503067\n",
      "When time is 18950,k is 3.070407889598643,b is 3.6977416662267393,the loss is 61.73832440407646\n",
      "When time is 19000,k is 3.0711330752802493,b is 3.693128674527111,the loss is 61.73396329197612\n",
      "When time is 19050,k is 3.0718581737734727,b is 3.6885162374430847,the loss is 61.72960322847746\n",
      "When time is 19100,k is 3.0725831850887926,b is 3.68390435490798,the loss is 61.725244213328324\n",
      "When time is 19150,k is 3.073308109236694,b is 3.679293026855122,the loss is 61.720886246276685\n",
      "When time is 19200,k is 3.074032946227653,b is 3.674682253217847,the loss is 61.71652932707051\n",
      "When time is 19250,k is 3.0747576960721514,b is 3.670072033929498,the loss is 61.712173455457844\n",
      "When time is 19300,k is 3.0754823587806634,b is 3.665462368923427,the loss is 61.707818631186825\n",
      "When time is 19350,k is 3.0762069343636687,b is 3.660853258132993,the loss is 61.703464854005595\n",
      "When time is 19400,k is 3.0769314228316413,b is 3.656244701491562,the loss is 61.69911212366242\n",
      "When time is 19450,k is 3.077655824195055,b is 3.65163669893251,the loss is 61.69476043990556\n",
      "When time is 19500,k is 3.078380138464384,b is 3.6470292503892208,the loss is 61.690409802483416\n",
      "When time is 19550,k is 3.079104365650098,b is 3.642422355795084,the loss is 61.686060211144365\n",
      "When time is 19600,k is 3.079828505762665,b is 3.6378160150835,the loss is 61.68171166563688\n",
      "When time is 19650,k is 3.0805525588125566,b is 3.6332102281878758,the loss is 61.67736416570953\n",
      "When time is 19700,k is 3.081276524810239,b is 3.628604995041627,the loss is 61.67301771111088\n",
      "When time is 19750,k is 3.0820004037661772,b is 3.6240003155781753,the loss is 61.66867230158961\n",
      "When time is 19800,k is 3.0827241956908393,b is 3.619396189730953,the loss is 61.66432793689443\n",
      "When time is 19850,k is 3.083447900594685,b is 3.614792617433398,the loss is 61.65998461677412\n",
      "When time is 19900,k is 3.08417151848818,b is 3.610189598618961,the loss is 61.655642340977515\n",
      "When time is 19950,k is 3.0848950493817844,b is 3.6055871332210945,the loss is 61.6513011092535\n"
     ]
    }
   ],
   "source": [
    "trying_times = 20000\n",
    "current_k = random.random()*200-100\n",
    "current_b = random.random()*200-100\n",
    "min_loss = float('inf')\n",
    "learning_rate = 1e-04\n",
    "for i in range(trying_times):\n",
    "    price_k_b = [price(x,current_k,current_b) for x in X_rm]\n",
    "    if loss(y,price_k_b) < min_loss:\n",
    "        min_loss = loss(y,price_k_b)\n",
    "        if i%50 == 0:\n",
    "            print(\"When time is {},k is {},b is {},the loss is {}\".format(i,current_k,current_b,min_loss))\n",
    "    gradient_k = partial_k(X_rm, y, price_k_b)\n",
    "    gradient_b = partial_b(X_rm, y, price_k_b)\n",
    "    current_k = current_k + (-1 * gradient_k) * learning_rate\n",
    "    current_b = current_b + (-1 * gradient_b) * learning_rate"
   ]
  },
  {
   "cell_type": "code",
   "execution_count": null,
   "metadata": {},
   "outputs": [],
   "source": []
  }
 ],
 "metadata": {
  "kernelspec": {
   "display_name": "Python 3",
   "language": "python",
   "name": "python3"
  },
  "language_info": {
   "codemirror_mode": {
    "name": "ipython",
    "version": 3
   },
   "file_extension": ".py",
   "mimetype": "text/x-python",
   "name": "python",
   "nbconvert_exporter": "python",
   "pygments_lexer": "ipython3",
   "version": "3.7.3"
  }
 },
 "nbformat": 4,
 "nbformat_minor": 2
}
