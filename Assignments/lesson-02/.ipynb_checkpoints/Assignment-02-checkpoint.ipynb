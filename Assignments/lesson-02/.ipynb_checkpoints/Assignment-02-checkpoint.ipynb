{
 "cells": [
  {
   "cell_type": "markdown",
   "metadata": {},
   "source": [
    "## Assignments for Week-02"
   ]
  },
  {
   "cell_type": "markdown",
   "metadata": {},
   "source": [
    "In this course, we learnt what's the search problem and what's the machine leanring. In this assignment, we need you do some more practice."
   ]
  },
  {
   "cell_type": "markdown",
   "metadata": {},
   "source": [
    "### 1. Re-code the house price machine learning\n",
    "\n",
    "###### 1. Random Choose Method to get optimal *k* and *b*\n",
    "###### 2.Supervised Direction to get optimal *k* and *b*\n",
    "###### 3.Gradient Descent to get optimal *k* and *b*\n",
    "###### 4. Try different Loss function and learning rate. \n",
    "\n",
    "For example, you can change the loss function: $Loss = \\frac{1}{n} sum({y_i - \\hat{y_i}})^2$ to $Loss = \\frac{1}{n} sum(|{y_i - \\hat{y_i}}|)$\n",
    "\n",
    "And you can change the learning rate and observe the performance."
   ]
  },
  {
   "cell_type": "markdown",
   "metadata": {},
   "source": [
    "![](https://timgsa.baidu.com/timg?image&quality=80&size=b9999_10000&sec=1562414412237&di=8377c38d7b50c6f8d45b92ccc78dc1e7&imgtype=0&src=http%3A%2F%2Fmmbiz.qpic.cn%2Fmmbiz_jpg%2FlSyiavfm6wPgQDuDYa42IMgSkLOcPJU91RbkMibGy7VHLrhhNVLibTYk1iaLcmXKTdHc4icTDVia59QFXwqpW8cLflaw%2F640%3Fwx_fmt%3Djpeg)"
   ]
  },
  {
   "cell_type": "markdown",
   "metadata": {},
   "source": [
    "#### 1. Random Choose Method to get optimal k* and *b"
   ]
  },
  {
   "cell_type": "code",
   "execution_count": 1,
   "metadata": {},
   "outputs": [],
   "source": [
    "from sklearn.datasets import load_boston"
   ]
  },
  {
   "cell_type": "code",
   "execution_count": 2,
   "metadata": {},
   "outputs": [],
   "source": [
    "data = load_boston()"
   ]
  },
  {
   "cell_type": "code",
   "execution_count": 3,
   "metadata": {},
   "outputs": [],
   "source": [
    "X, y = data['data'], data['target']\n",
    "X_rm = X[:, 5]"
   ]
  },
  {
   "cell_type": "code",
   "execution_count": 5,
   "metadata": {},
   "outputs": [],
   "source": [
    "def price(x,r,b):\n",
    "    return x*r+b"
   ]
  },
  {
   "cell_type": "code",
   "execution_count": 11,
   "metadata": {},
   "outputs": [],
   "source": [
    "import numpy as np\n",
    "def loss(y,y_hat):\n",
    "    e = np.array(y)-np.array(y_hat)\n",
    "    return (e@e.T)/len(y)\n",
    "    "
   ]
  },
  {
   "cell_type": "code",
   "execution_count": 14,
   "metadata": {},
   "outputs": [
    {
     "name": "stdout",
     "output_type": "stream",
     "text": [
      "when time is 0,k is -89.51271572446402,b is46.46006697261873,loss is294954.5133054805\n",
      "when time is 1,k is -50.341208153644686,b is19.799194428905793,loss is103615.5434957917\n",
      "when time is 2,k is -24.295579779545193,b is-28.378336696868274,loss is42046.10707775358\n",
      "when time is 4,k is 19.31515506220252,b is-58.64351728775314,loss is1712.0259974782186\n",
      "when time is 42,k is -7.758431434080876,b is60.643080317652476,loss is297.0562172014496\n",
      "when time is 126,k is -2.858631146296588,b is49.64260051997539,loss is197.70418813032023\n",
      "when time is 146,k is 2.3538477875330983,b is-2.5398581514139806,loss is171.70741965657734\n",
      "when time is 228,k is 2.6087575713671782,b is13.717598444999936,loss is121.82893765304512\n",
      "when time is 447,k is 2.476424027078423,b is10.624563881677872,loss is78.59004453843548\n",
      "when time is 662,k is 11.834321974814927,b is-46.25929840849072,loss is78.4403890283213\n",
      "when time is 819,k is 13.0087663945786,b is-57.356246378920005,loss is54.603083026541505\n",
      "when time is 1950,k is 7.641361815218261,b is-26.263356776976906,loss is45.24938180272445\n"
     ]
    }
   ],
   "source": [
    "import random\n",
    "trying_times = 2000\n",
    "min_loss = float('inf')\n",
    "best_k, best_b = None, None\n",
    "for i in range(trying_times):\n",
    "    k = random.random()*200-100\n",
    "    b = random.random()*200-100\n",
    "    price_by_random_k_and_b = [price(r, k, b) for r in X_rm]\n",
    "    current_loss = loss(y, price_by_random_k_and_b)\n",
    "    if current_loss < min_loss:\n",
    "        min_loss = current_loss\n",
    "        best_k, best_b = k, b\n",
    "        print('when time is {},k is {},b is{},loss is{}'.format(i,best_k,best_b,min_loss))\n",
    "    "
   ]
  },
  {
   "cell_type": "markdown",
   "metadata": {},
   "source": [
    "#### 2.Supervised Direction to get optimal k* and *b"
   ]
  },
  {
   "cell_type": "code",
   "execution_count": 15,
   "metadata": {},
   "outputs": [
    {
     "name": "stdout",
     "output_type": "stream",
     "text": [
      "When time is : 0, get best_k: 21.838961612278347 best_b: -85.71261085880045, and the loss is: 964.7886161194394\n",
      "When time is : 4, get best_k: 21.738961612278345 best_b: -85.81261085880044, and the loss is: 921.8117300308884\n",
      "When time is : 5, get best_k: 21.638961612278344 best_b: -85.91261085880043, and the loss is: 879.9060158098081\n",
      "When time is : 6, get best_k: 21.538961612278342 best_b: -86.01261085880043, and the loss is: 839.071473456198\n",
      "When time is : 7, get best_k: 21.43896161227834 best_b: -86.11261085880042, and the loss is: 799.308102970058\n",
      "When time is : 8, get best_k: 21.33896161227834 best_b: -86.21261085880042, and the loss is: 760.6159043513885\n",
      "When time is : 9, get best_k: 21.238961612278338 best_b: -86.31261085880041, and the loss is: 722.9948776001895\n",
      "When time is : 10, get best_k: 21.138961612278337 best_b: -86.4126108588004, and the loss is: 686.4450227164609\n",
      "When time is : 11, get best_k: 21.038961612278335 best_b: -86.5126108588004, and the loss is: 650.9663397002026\n",
      "When time is : 12, get best_k: 20.938961612278334 best_b: -86.6126108588004, and the loss is: 616.5588285514145\n",
      "When time is : 13, get best_k: 20.838961612278332 best_b: -86.71261085880039, and the loss is: 583.2224892700968\n",
      "When time is : 14, get best_k: 20.73896161227833 best_b: -86.81261085880038, and the loss is: 550.9573218562497\n",
      "When time is : 15, get best_k: 20.63896161227833 best_b: -86.91261085880038, and the loss is: 519.7633263098728\n",
      "When time is : 16, get best_k: 20.538961612278328 best_b: -87.01261085880037, and the loss is: 489.6405026309663\n",
      "When time is : 17, get best_k: 20.438961612278327 best_b: -87.11261085880037, and the loss is: 460.58885081953014\n",
      "When time is : 18, get best_k: 20.338961612278325 best_b: -87.21261085880036, and the loss is: 432.6083708755644\n",
      "When time is : 19, get best_k: 20.238961612278324 best_b: -87.31261085880035, and the loss is: 405.699062799069\n",
      "When time is : 20, get best_k: 20.138961612278322 best_b: -87.41261085880035, and the loss is: 379.86092659004385\n",
      "When time is : 21, get best_k: 20.03896161227832 best_b: -87.51261085880034, and the loss is: 355.09396224848916\n",
      "When time is : 22, get best_k: 19.93896161227832 best_b: -87.61261085880034, and the loss is: 331.39816977440495\n",
      "When time is : 23, get best_k: 19.838961612278318 best_b: -87.71261085880033, and the loss is: 308.7735491677909\n",
      "When time is : 24, get best_k: 19.738961612278317 best_b: -87.81261085880033, and the loss is: 287.22010042864736\n",
      "When time is : 25, get best_k: 19.638961612278315 best_b: -87.91261085880032, and the loss is: 266.73782355697415\n",
      "When time is : 26, get best_k: 19.538961612278314 best_b: -88.01261085880031, and the loss is: 247.32671855277127\n",
      "When time is : 27, get best_k: 19.438961612278312 best_b: -88.11261085880031, and the loss is: 228.98678541603877\n",
      "When time is : 28, get best_k: 19.33896161227831 best_b: -88.2126108588003, and the loss is: 211.71802414677668\n",
      "When time is : 29, get best_k: 19.23896161227831 best_b: -88.3126108588003, and the loss is: 195.52043474498493\n",
      "When time is : 30, get best_k: 19.138961612278308 best_b: -88.41261085880029, and the loss is: 180.39401721066352\n",
      "When time is : 31, get best_k: 19.038961612278307 best_b: -88.51261085880029, and the loss is: 166.33877154381253\n",
      "When time is : 32, get best_k: 18.938961612278305 best_b: -88.61261085880028, and the loss is: 153.35469774443183\n",
      "When time is : 33, get best_k: 18.838961612278304 best_b: -88.71261085880028, and the loss is: 141.44179581252155\n",
      "When time is : 34, get best_k: 18.738961612278302 best_b: -88.81261085880027, and the loss is: 130.6000657480816\n",
      "When time is : 35, get best_k: 18.6389616122783 best_b: -88.91261085880026, and the loss is: 120.82950755111202\n",
      "When time is : 36, get best_k: 18.5389616122783 best_b: -89.01261085880026, and the loss is: 112.13012122161282\n",
      "When time is : 37, get best_k: 18.438961612278298 best_b: -89.11261085880025, and the loss is: 104.50190675958399\n",
      "When time is : 38, get best_k: 18.338961612278297 best_b: -89.21261085880025, and the loss is: 97.94486416502552\n",
      "When time is : 39, get best_k: 18.238961612278295 best_b: -89.31261085880024, and the loss is: 92.45899343793744\n",
      "When time is : 40, get best_k: 18.138961612278294 best_b: -89.41261085880024, and the loss is: 88.04429457831968\n",
      "When time is : 41, get best_k: 18.038961612278293 best_b: -89.51261085880023, and the loss is: 84.7007675861723\n",
      "When time is : 42, get best_k: 17.93896161227829 best_b: -89.61261085880022, and the loss is: 82.4284124614953\n",
      "When time is : 43, get best_k: 17.83896161227829 best_b: -89.71261085880022, and the loss is: 81.22722920428865\n",
      "When time is : 44, get best_k: 17.73896161227829 best_b: -89.81261085880021, and the loss is: 81.09721781455237\n"
     ]
    }
   ],
   "source": [
    "trying_times = 2000\n",
    "min_loss = float('inf')\n",
    "best_k = random.random() * 200 - 100\n",
    "best_b = random.random() * 200 - 100\n",
    "direction = [\n",
    "    (+1, -1), \n",
    "    (+1, +1), \n",
    "    (-1, -1), \n",
    "    (-1, +1),\n",
    "]\n",
    "next_direction = random.choice(direction)\n",
    "scalar = 0.1\n",
    "for i in range(trying_times):\n",
    "    k_direction, b_direction = next_direction  \n",
    "    current_k, current_b = best_k + k_direction * scalar, best_b + b_direction * scalar\n",
    "    price_by_k_and_b = [price(r, current_k, current_b) for r in X_rm]\n",
    "    current_loss = loss(y, price_by_k_and_b)   \n",
    "    if current_loss < min_loss: \n",
    "        min_loss = current_loss\n",
    "        best_k, best_b = current_k, current_b\n",
    "        next_direction = next_direction\n",
    "        print('When time is : {}, get best_k: {} best_b: {}, and the loss is: {}'.format(i, best_k, best_b, min_loss))\n",
    "    else:\n",
    "        next_direction = random.choice(direction)"
   ]
  },
  {
   "cell_type": "markdown",
   "metadata": {},
   "source": [
    "## 2. Answer following questions:\n",
    "\n",
    "\n",
    "###### 1. Why do we need machine learning methods instead of creating a complicated formula?\n"
   ]
  },
  {
   "cell_type": "markdown",
   "metadata": {},
   "source": [
    "Ans:创造出来的复杂方法难以随着数据的改变而调整，使用机器学习的方法可以通过数据得到合适的公式"
   ]
  },
  {
   "cell_type": "markdown",
   "metadata": {},
   "source": [
    "###### 2.  Wha't's the disadvantages of `the 1st Random Choosen` methods in our course? "
   ]
  },
  {
   "cell_type": "markdown",
   "metadata": {},
   "source": [
    "Ans:参数的变化完全随机，没有方向，因而效率较低"
   ]
  },
  {
   "cell_type": "markdown",
   "metadata": {},
   "source": [
    "###### 3. Is the `2nd method supervised direction` better than 1st one?  What's the disadvantages of `the 2nd supversied directin` method? "
   ]
  },
  {
   "cell_type": "markdown",
   "metadata": {},
   "source": [
    "Ans:从效果来看，并不一定比第一种方法更好。缺点在于每一次的方向调整的大小不一定适合"
   ]
  },
  {
   "cell_type": "markdown",
   "metadata": {},
   "source": [
    "###### 4. Why do we use `Derivative / Gredient` to fit a target function? "
   ]
  },
  {
   "cell_type": "markdown",
   "metadata": {},
   "source": [
    "Ans:"
   ]
  },
  {
   "cell_type": "markdown",
   "metadata": {},
   "source": [
    "###### 5. In the words 'Gredient Descent', what's the `Gredient` and what's the `Descent`?"
   ]
  },
  {
   "cell_type": "markdown",
   "metadata": {},
   "source": [
    "Ans:"
   ]
  },
  {
   "cell_type": "markdown",
   "metadata": {},
   "source": [
    "###### 6. What's the advantages of `the 3rd gradient descent method` compared to the previous methods?"
   ]
  },
  {
   "cell_type": "markdown",
   "metadata": {},
   "source": [
    "Ans:"
   ]
  },
  {
   "cell_type": "markdown",
   "metadata": {},
   "source": [
    "###### 7. Using the simple words to describe: What's the machine leanring."
   ]
  },
  {
   "cell_type": "markdown",
   "metadata": {},
   "source": [
    "Ans:"
   ]
  },
  {
   "cell_type": "markdown",
   "metadata": {},
   "source": [
    "## 3. Finish the search problem"
   ]
  },
  {
   "cell_type": "markdown",
   "metadata": {},
   "source": [
    "Please using the search policy to implement an agent. This agent receives two input, one is @param start station and the other is @param destination. Your agent should give the optimal route based on Beijing Subway system. "
   ]
  },
  {
   "cell_type": "markdown",
   "metadata": {},
   "source": [
    "> Deadline: 2019-July-13\n",
    "\n",
    ">Submit: Submit the source code and result to github. \n",
    "\n"
   ]
  },
  {
   "cell_type": "markdown",
   "metadata": {},
   "source": [
    "![](https://timgsa.baidu.com/timg?image&quality=80&size=b9999_10000&sec=1562414356407&di=b57814aafd215bb8b8d9d8cd37c573d6&imgtype=0&src=http%3A%2F%2Fcli.clewm.net%2Ffile%2F2015%2F03%2F24%2F174ed60082b8422ac0636cfd3efb9e7f.jpg)"
   ]
  },
  {
   "cell_type": "markdown",
   "metadata": {},
   "source": [
    "#### Dataflow: "
   ]
  },
  {
   "cell_type": "markdown",
   "metadata": {},
   "source": [
    "##### 1.\tGet data from web page.\n",
    "\n",
    "> a.\tGet web page source from: https://baike.baidu.com/item/%E5%8C%97%E4%BA%AC%E5%9C%B0%E9%93%81/408485\n",
    "\n",
    "> b.\tYou may need @package **requests**[https://2.python-requests.org/en/master/] page to get the response via url\n",
    "\n",
    "> c.\tYou may need save the page source to file system.\n",
    "\n",
    "> d.\tThe target of this step is to get station information of all the subway lines;\n",
    "\n",
    "> e.\tYou may need install @package beautiful soup[https://www.crummy.com/software/BeautifulSoup/bs4/doc/]  to get the url information, or just use > Regular Expression to get the url.  Our recommendation is that using the Regular Expression and BeautiflSoup both. \n",
    "\n",
    "> f.\tYou may need BFS to get all the related page url from one url. \n",
    "Question: Why do we use BFS to traverse web page (or someone said, build a web spider)?  Can DFS do this job? which is better? "
   ]
  },
  {
   "cell_type": "code",
   "execution_count": 5,
   "metadata": {},
   "outputs": [],
   "source": [
    "# 这一部分参考了欧鑫同学的代码，爬虫知识太少，实在难以获取数据\n",
    "from bs4 import BeautifulSoup\n",
    "import requests\n",
    "import re\n",
    "import os"
   ]
  },
  {
   "cell_type": "code",
   "execution_count": 6,
   "metadata": {},
   "outputs": [
    {
     "name": "stderr",
     "output_type": "stream",
     "text": [
      "D:\\Python_anaconda\\lib\\site-packages\\urllib3\\connectionpool.py:847: InsecureRequestWarning: Unverified HTTPS request is being made. Adding certificate verification is strongly advised. See: https://urllib3.readthedocs.io/en/latest/advanced-usage.html#ssl-warnings\n",
      "  InsecureRequestWarning)\n"
     ]
    }
   ],
   "source": [
    "#参考文章：https://blog.csdn.net/HollyRan/article/details/85254375\n",
    "#目标网站：https://www.bjsubway.com/station/zjgls/#\n",
    "#百度百科的站点不太靠谱，从北京地铁官网找到的这个比较好，还包括站点距离\n",
    "\n",
    "url = 'https://www.bjsubway.com/station/zjgls/#'\n",
    "#verify必须等于false，否则SSL会报错\n",
    "response = requests.get(url,verify=False)\n",
    "#使用中文编码格式gbk进行解码\n",
    "response.encoding = 'gbk'\n",
    "html = response.text\n",
    "#将源代码信息用BeautifulSoup的parser解码器进行解码\n",
    "soup = BeautifulSoup(html,\"html.parser\")"
   ]
  },
  {
   "cell_type": "code",
   "execution_count": 7,
   "metadata": {},
   "outputs": [
    {
     "name": "stdout",
     "output_type": "stream",
     "text": [
      "[<td colspan=\"5\">1号线相邻站间距信息统计表</td>, <td colspan=\"5\">5号线相邻站间距信息统计表</td>, <td colspan=\"5\">6号线相邻站间距信息统计表</td>, <td colspan=\"5\">7号线相邻站间距信息统计表</td>, <td colspan=\"5\">8号线相邻站间距信息统计表</td>, <td colspan=\"5\">9号线相邻站间距信息统计表</td>, <td colspan=\"5\">八通线相邻站间距信息统计表</td>, <td colspan=\"5\">亦庄线相邻站间距信息统计表</td>, <td colspan=\"5\">房山线相邻站间距信息统计表</td>, <td colspan=\"5\">机场线相邻站间距信息统计表</td>, <td colspan=\"6\">15号线相邻站间距信息统计表</td>, <td colspan=\"6\">昌平线相邻站间距信息统计表</td>, <td colspan=\"7\">2号线相邻站间距信息统计表</td>, <td colspan=\"7\">4号线相邻站间距信息统计表</td>, <td colspan=\"7\">13号线相邻站间距信息统计表</td>, <td colspan=\"7\">14号线(西段)相邻站间距信息统计表</td>, <td colspan=\"7\">14号线（东段）相邻站间距信息统计表</td>, <td colspan=\"7\">大兴线相邻站间距信息统计表</td>, <td colspan=\"9\">10号线相邻站间距信息统计表</td>]\n",
      "\n",
      "\n",
      "['1号线相邻站间距信息统计表', '5号线相邻站间距信息统计表', '6号线相邻站间距信息统计表', '7号线相邻站间距信息统计表', '8号线相邻站间距信息统计表', '9号线相邻站间距信息统计表', '八通线相邻站间距信息统计表', '亦庄线相邻站间距信息统计表', '房山线相邻站间距信息统计表', '机场线相邻站间距信息统计表', '15号线相邻站间距信息统计表', '昌平线相邻站间距信息统计表', '2号线相邻站间距信息统计表', '4号线相邻站间距信息统计表', '13号线相邻站间距信息统计表', '14号线(西段)相邻站间距信息统计表', '14号线（东段）相邻站间距信息统计表', '大兴线相邻站间距信息统计表', '10号线相邻站间距信息统计表']\n"
     ]
    }
   ],
   "source": [
    "# 得到线路名称\n",
    "def get_txt_name():  \n",
    "    txt_src_name = []\n",
    "    for i in range(5, 10):\n",
    "        #观察源代码可知线路信息都在名为\"colspan\"的字符串后面，且colspan后面的数字在5-10之间\n",
    "        #使用soup自带的正则表达，字典方式\n",
    "        temp = soup.find_all('td', {'colspan': str(i)})\n",
    "        txt_src_name += temp\n",
    "    return txt_src_name\n",
    "print(get_txt_name())\n",
    "#得到准确线路名称，去除边角冗余字符串\n",
    "def get_txtuseful_name(): \n",
    "    obj = []\n",
    "    for each in get_txt_name():\n",
    "        # 从>匹配到<(不包含)，用括号包住想要的部分\n",
    "        temp = re.findall(r\">(.+?)<\", str(each))  \n",
    "        obj += temp\n",
    "    return obj\n",
    "print('\\n')\n",
    "#查看地铁线路总共有多少\n",
    "print(get_txtuseful_name())"
   ]
  },
  {
   "cell_type": "code",
   "execution_count": 8,
   "metadata": {},
   "outputs": [],
   "source": [
    "#分析网页源码，发现所有的站点信息都被存在\"<tbody>\"下\n",
    "Station_info = soup.find_all('tbody')\n",
    "#print(Station_info)\n",
    "#tbody下的关键信息仍然需要正则提取\n",
    "def get_station_info():\n",
    "    obj = []\n",
    "    for each in Station_info:\n",
    "        temp = re.findall(r\">(.+?)<\", str(each))   # 正则匹配，str格式\n",
    "        obj += temp\n",
    "    return obj\n",
    "#print(get_station_info())\n",
    "#得到站点与位置两个关键信息\n",
    "station_geo_info = get_station_info()"
   ]
  },
  {
   "cell_type": "markdown",
   "metadata": {},
   "source": [
    "##### 2.\tPreprocessing data from page source.\n",
    "\n",
    "> a.\tBased on the page source gotten from url. You may need some more preprocessing of the page. \n",
    "\n",
    "> b.\tthe Regular Expression you may need to process the text information.\n",
    "\n",
    "> c.\tYou may need @package networkx, @package matplotlib to visualize data. \n",
    "\n",
    "> d.\tYou should build a dictionary or graph which could represent the connection information of Beijing subway routes. \n",
    "\n",
    "> e.\tYou may need the defaultdict, set data structures to implement this procedure. "
   ]
  },
  {
   "cell_type": "code",
   "execution_count": 9,
   "metadata": {},
   "outputs": [],
   "source": [
    "#保存到test文件备用\n",
    "with open('test.txt','w',encoding='utf-8') as f:\n",
    "    for line in station_geo_info:\n",
    "        if line == '上行/下行' or line == '上行' or line == '下行':\n",
    "            f.write('\\n')\n",
    "        else:\n",
    "            f.write(line + '   ')"
   ]
  },
  {
   "cell_type": "code",
   "execution_count": 10,
   "metadata": {},
   "outputs": [],
   "source": [
    "#保存到列表中\n",
    "info = []\n",
    "for i in station_geo_info:\n",
    "    #去除多余的文字\n",
    "    if i == '上行/下行' or i == '上行' or i == '下行': continue\n",
    "    else:\n",
    "        info.append(i)\n",
    "        \n",
    "info_1 = {}\n",
    "n = 0\n",
    "for i in info:\n",
    "    n += 1\n",
    "    #站点的字符串大于5，选出站点形成字典\n",
    "    #站点作为key，距离作为值，把站点间的字符串‘--’换成‘:’\n",
    "    if len(i)>5:\n",
    "        info_1[i.replace('——',':')] = info[n]"
   ]
  },
  {
   "cell_type": "code",
   "execution_count": 11,
   "metadata": {},
   "outputs": [],
   "source": [
    "#先找出站点间单向连接的关系\n",
    "station_connection_single = {}\n",
    "visited = []\n",
    "for i in info_1.keys():\n",
    "    #如果某站点在之前出现过，那么此站点还能到达其他点\n",
    "    #如建国门可到北京站，也可到东单，先设{'建国门':['北京站']},再把东单append进入key对应的value中\n",
    "    if i.split(':')[0] in visited:\n",
    "        station_connection_single[i.split(':')[0]].append(i.split(':')[1])\n",
    "    else:\n",
    "        station_connection_single[i.split(':')[0]]= [i.split(':')[1]]\n",
    "        visited.append(i.split(':')[0])\n",
    "#station_connection_single"
   ]
  },
  {
   "cell_type": "code",
   "execution_count": 12,
   "metadata": {},
   "outputs": [],
   "source": [
    "#补充前后连接关系\n",
    "#一个站点除了可以到它的下一个点，它还可以去到它的上一个点\n",
    "station_connection = station_connection_single\n",
    "all_station = list(station_connection_single.keys())\n",
    "c = list(station_connection_single.values())\n",
    "for i in all_station:\n",
    "    for p in c:\n",
    "        #若此站点出现在其他站点可以到达的站点中，则此站点也能到达那个站点\n",
    "        #如建国门可到站点为[北京站，东单],对于北京站和东单而言，它们也可以到建国门\n",
    "        #找到建国门的索引号，赋入字典key对应的value中\n",
    "        if i in p:\n",
    "            index = c.index(p)\n",
    "            station_connection[i].append(all_station[index])        \n",
    "#station_connection"
   ]
  },
  {
   "cell_type": "code",
   "execution_count": 13,
   "metadata": {},
   "outputs": [
    {
     "data": {
      "text/plain": [
       "{'苹果园': ['古城'],\n",
       " '古城': ['八角游乐园', '苹果园'],\n",
       " '八角游乐园': ['八宝山', '古城'],\n",
       " '八宝山': ['玉泉路', '八角游乐园'],\n",
       " '玉泉路': ['五棵松', '八宝山'],\n",
       " '五棵松': ['万寿路', '玉泉路'],\n",
       " '万寿路': ['公主坟', '五棵松'],\n",
       " '公主坟': ['军事博物馆', '西钓鱼台', '万寿路', '莲花桥'],\n",
       " '军事博物馆': ['木樨地', '北京西站', '公主坟', '白堆子'],\n",
       " '木樨地': ['南礼士路', '军事博物馆'],\n",
       " '南礼士路': ['复兴门', '木樨地'],\n",
       " '复兴门': ['西单', '长椿街', '南礼士路', '阜成门'],\n",
       " '西单': ['天安门西', '宣武门', '复兴门', '灵境胡同'],\n",
       " '天安门西': ['天安门东', '西单'],\n",
       " '天安门东': ['王府井', '天安门西'],\n",
       " '王府井': ['东单', '天安门东'],\n",
       " '东单': ['建国门', '崇文门', '王府井', '灯市口'],\n",
       " '建国门': ['永安里', '朝阳门', '东单', '北京站'],\n",
       " '永安里': ['国贸', '建国门'],\n",
       " '国贸': ['大望路', '双井', '永安里', '金台夕照'],\n",
       " '大望路': ['四惠', '红庙', '国贸', '九龙山'],\n",
       " '四惠': ['四惠东', '大望路'],\n",
       " '西直门': ['车公庄', '新街口', '大钟寺', '积水潭', '积水潭'],\n",
       " '车公庄': ['阜成门', '平安里', '西直门', '车公庄西'],\n",
       " '阜成门': ['复兴门', '复兴门', '车公庄'],\n",
       " '长椿街': ['宣武门', '复兴门'],\n",
       " '宣武门': ['和平门', '菜市口', '西单', '长椿街'],\n",
       " '和平门': ['前门', '宣武门'],\n",
       " '前门': ['崇文门', '和平门'],\n",
       " '崇文门': ['北京站', '磁器口', '东单', '前门'],\n",
       " '北京站': ['建国门', '建国门', '崇文门'],\n",
       " '朝阳门': ['东四十条', '东大桥', '建国门', '东四'],\n",
       " '东四十条': ['东直门', '朝阳门'],\n",
       " '东直门': ['雍和宫', '三元桥', '东四十条', '柳芳'],\n",
       " '雍和宫': ['安定门', '北新桥', '东直门', '和平里北街'],\n",
       " '安定门': ['鼓楼大街', '雍和宫'],\n",
       " '鼓楼大街': ['积水潭', '什刹海', '安定门', '安德里北街'],\n",
       " '积水潭': ['西直门', '西直门', '鼓楼大街'],\n",
       " '安河桥北': ['北宫门'],\n",
       " '北宫门': ['西苑', '安河桥北'],\n",
       " '西苑': ['圆明园', '北宫门'],\n",
       " '圆明园': ['北京大学东门', '西苑'],\n",
       " '北京大学东门': ['中关村', '圆明园'],\n",
       " '中关村': ['海淀黄庄', '北京大学东门'],\n",
       " '海淀黄庄': ['人民大学', '知春里', '中关村', '苏州街'],\n",
       " '人民大学': ['魏公村', '海淀黄庄'],\n",
       " '魏公村': ['国家图书馆', '人民大学'],\n",
       " '国家图书馆': ['动物园', '白石桥南', '魏公村'],\n",
       " '动物园': ['西直门', '国家图书馆'],\n",
       " '新街口': ['平安里', '西直门'],\n",
       " '平安里': ['西四', '北海北', '车公庄', '新街口'],\n",
       " '西四': ['灵境胡同', '平安里'],\n",
       " '灵境胡同': ['西单', '西单', '西四'],\n",
       " '菜市口': ['陶然亭', '虎坊桥', '宣武门', '广安门内'],\n",
       " '陶然亭': ['北京南站', '菜市口'],\n",
       " '北京南站': ['马家堡', '陶然桥', '陶然亭'],\n",
       " '马家堡': ['角门西', '北京南站'],\n",
       " '角门西': ['公益西桥', '草桥', '马家堡', '角门东'],\n",
       " '天通苑北': ['天通苑'],\n",
       " '天通苑': ['天通苑南', '天通苑北'],\n",
       " '天通苑南': ['立水桥', '天通苑'],\n",
       " '立水桥': ['立水桥南', '北苑', '天通苑南', '霍营'],\n",
       " '立水桥南': ['北苑路北', '立水桥'],\n",
       " '北苑路北': ['大屯路东', '立水桥南'],\n",
       " '大屯路东': ['惠新西街北口', '关庄', '北苑路北', '安立路'],\n",
       " '惠新西街北口': ['惠新西街南口', '大屯路东'],\n",
       " '惠新西街南口': ['和平西桥', '芍药居', '惠新西街北口', '安贞门'],\n",
       " '和平西桥': ['和平里北街', '惠新西街南口'],\n",
       " '和平里北街': ['雍和宫', '雍和宫', '和平西桥'],\n",
       " '北新桥': ['张自忠路', '雍和宫'],\n",
       " '张自忠路': ['东四', '北新桥'],\n",
       " '东四': ['灯市口', '朝阳门', '朝阳门', '张自忠路', '南锣鼓巷'],\n",
       " '灯市口': ['东单', '东单', '东四'],\n",
       " '磁器口': ['天坛东门', '广渠门内', '崇文门', '桥湾'],\n",
       " '天坛东门': ['蒲黄榆', '磁器口'],\n",
       " '蒲黄榆': ['刘家窑', '方庄', '天坛东门', '景泰'],\n",
       " '刘家窑': ['宋家庄', '蒲黄榆'],\n",
       " '海淀五路居': ['慈寿寺'],\n",
       " '慈寿寺': ['花园桥', '车道沟', '海淀五路居', '海淀五路居'],\n",
       " '花园桥': ['白石桥南', '慈寿寺'],\n",
       " '白石桥南': ['车公庄西', '白堆子', '国家图书馆', '花园桥'],\n",
       " '车公庄西': ['车公庄', '车公庄', '白石桥南'],\n",
       " '北海北': ['南锣鼓巷', '平安里'],\n",
       " '南锣鼓巷': ['东四', '东四', '北海北', '什刹海'],\n",
       " '东大桥': ['呼家楼', '朝阳门'],\n",
       " '呼家楼': ['金台路', '金台夕照', '东大桥', '团结湖'],\n",
       " '金台路': ['十里堡', '朝阳公园', '呼家楼', '红庙'],\n",
       " '十里堡': ['青年路', '金台路'],\n",
       " '青年路': ['褡裢坡', '十里堡'],\n",
       " '褡裢坡': ['黄渠', '青年路'],\n",
       " '黄渠': ['常营', '褡裢坡'],\n",
       " '常营': ['草房', '黄渠'],\n",
       " '草房': ['物资学院路', '常营'],\n",
       " '物资学院路': ['通州北关', '草房'],\n",
       " '通州北关': ['通运门', '物资学院路'],\n",
       " '通运门': ['北运河西', '通州北关'],\n",
       " '北运河西': ['北运河东', '通运门'],\n",
       " '北运河东': ['郝家府', '北运河西'],\n",
       " '郝家府': ['东夏园', '北运河东'],\n",
       " '东夏园': ['潞城', '郝家府'],\n",
       " '北京西站': ['湾子', '六里桥东', '军事博物馆'],\n",
       " '湾子': ['达官营', '北京西站'],\n",
       " '达官营': ['广安门内', '湾子'],\n",
       " '广安门内': ['菜市口', '菜市口', '达官营'],\n",
       " '虎坊桥': ['珠市口', '菜市口'],\n",
       " '珠市口': ['桥湾', '虎坊桥'],\n",
       " '桥湾': ['磁器口', '磁器口', '珠市口'],\n",
       " '广渠门内': ['广渠门外', '磁器口'],\n",
       " '广渠门外': ['双井', '广渠门内'],\n",
       " '双井': ['九龙山', '劲松', '国贸', '广渠门外'],\n",
       " '九龙山': ['大郊亭', '大望路', '大望路', '双井', '平乐园'],\n",
       " '大郊亭': ['百子湾', '九龙山'],\n",
       " '百子湾': ['化工', '大郊亭'],\n",
       " '化工': ['南楼梓庄', '百子湾'],\n",
       " '南楼梓庄': ['欢乐谷景区', '化工'],\n",
       " '欢乐谷景区': ['垡头', '南楼梓庄'],\n",
       " '垡头': ['双合', '欢乐谷景区'],\n",
       " '双合': ['焦化厂', '垡头'],\n",
       " '朱辛庄': ['育知路', '生命科学园', '巩华城'],\n",
       " '育知路': ['平西府', '朱辛庄'],\n",
       " '平西府': ['回龙观东大街', '育知路'],\n",
       " '回龙观东大街': ['霍营', '平西府'],\n",
       " '霍营': ['育新', '立水桥', '立水桥', '回龙观东大街', '回龙观'],\n",
       " '育新': ['西小口', '霍营'],\n",
       " '西小口': ['永泰庄', '育新'],\n",
       " '永泰庄': ['林萃桥', '西小口'],\n",
       " '林萃桥': ['森林公园南门', '永泰庄'],\n",
       " '森林公园南门': ['奥林匹克公园', '林萃桥'],\n",
       " '奥林匹克公园': ['奥体中心', '安立路', '森林公园南门', '北沙滩'],\n",
       " '奥体中心': ['北土城', '奥林匹克公园'],\n",
       " '北土城': ['安华桥', '安贞门', '奥体中心', '健德门'],\n",
       " '安华桥': ['安德里北街', '北土城'],\n",
       " '安德里北街': ['鼓楼大街', '鼓楼大街', '安华桥'],\n",
       " '什刹海': ['南锣鼓巷', '鼓楼大街', '南锣鼓巷'],\n",
       " '白堆子': ['军事博物馆', '军事博物馆', '白石桥南'],\n",
       " '六里桥东': ['六里桥', '北京西站'],\n",
       " '六里桥': ['七里庄', '莲花桥', '六里桥东', '西局'],\n",
       " '七里庄': ['丰台东大街', '西局', '六里桥', '大井'],\n",
       " '丰台东大街': ['丰台南路', '七里庄'],\n",
       " '丰台南路': ['科怡路', '丰台东大街'],\n",
       " '科怡路': ['丰台科技园', '丰台南路'],\n",
       " '丰台科技园': ['郭公庄', '科怡路'],\n",
       " '巴沟': ['苏州街', '火器营'],\n",
       " '苏州街': ['海淀黄庄', '海淀黄庄', '巴沟'],\n",
       " '知春里': ['知春路', '海淀黄庄'],\n",
       " '知春路': ['西土城', '五道口', '知春里', '大钟寺'],\n",
       " '西土城': ['牡丹园', '知春路'],\n",
       " '牡丹园': ['健德门', '西土城'],\n",
       " '健德门': ['北土城', '北土城', '牡丹园'],\n",
       " '安贞门': ['惠新西街南口', '惠新西街南口', '北土城'],\n",
       " '芍药居': ['太阳宫', '光熙门', '惠新西街南口', '望京西'],\n",
       " '太阳宫': ['三元桥', '芍药居'],\n",
       " '三元桥': ['亮马桥', 'T3航站楼', '东直门', '太阳宫', 'T2航站楼'],\n",
       " '亮马桥': ['农业展览馆', '三元桥'],\n",
       " '农业展览馆': ['团结湖', '亮马桥'],\n",
       " '团结湖': ['呼家楼', '呼家楼', '农业展览馆'],\n",
       " '金台夕照': ['国贸', '国贸', '呼家楼'],\n",
       " '劲松': ['潘家园', '双井'],\n",
       " '潘家园': ['十里河', '劲松'],\n",
       " '十里河': ['分钟寺', '南八里庄', '潘家园', '方庄'],\n",
       " '分钟寺': ['成寿寺', '十里河'],\n",
       " '成寿寺': ['宋家庄', '分钟寺'],\n",
       " '宋家庄': ['石榴庄', '肖村', '刘家窑', '成寿寺'],\n",
       " '石榴庄': ['大红门', '宋家庄'],\n",
       " '大红门': ['角门东', '石榴庄'],\n",
       " '角门东': ['角门西', '角门西', '大红门'],\n",
       " '草桥': ['纪家庙', '角门西'],\n",
       " '纪家庙': ['首经贸', '草桥'],\n",
       " '首经贸': ['丰台站', '纪家庙'],\n",
       " '丰台站': ['泥洼', '首经贸'],\n",
       " '泥洼': ['西局', '丰台站'],\n",
       " '西局': ['六里桥', '六里桥', '七里庄', '泥洼'],\n",
       " '莲花桥': ['公主坟', '公主坟', '六里桥'],\n",
       " '西钓鱼台': ['慈寿寺', '公主坟'],\n",
       " '车道沟': ['长春桥', '慈寿寺'],\n",
       " '长春桥': ['火器营', '车道沟'],\n",
       " '火器营': ['巴沟', '巴沟', '长春桥'],\n",
       " '大钟寺': ['知春路', '西直门', '知春路'],\n",
       " '五道口': ['上地', '知春路'],\n",
       " '上地': ['西二旗', '五道口'],\n",
       " '西二旗': ['龙泽', '上地', '生命科学园'],\n",
       " '龙泽': ['回龙观', '西二旗'],\n",
       " '回龙观': ['霍营', '霍营', '龙泽'],\n",
       " '北苑': ['望京西', '立水桥'],\n",
       " '望京西': ['芍药居', '望京', '芍药居', '北苑', '关庄'],\n",
       " '光熙门': ['柳芳', '芍药居'],\n",
       " '柳芳': ['东直门', '东直门', '光熙门'],\n",
       " '张郭庄': ['园博园'],\n",
       " '园博园': ['大瓦窑', '张郭庄'],\n",
       " '大瓦窑': ['郭庄子', '园博园'],\n",
       " '郭庄子': ['大井', '大瓦窑'],\n",
       " '大井': ['七里庄', '七里庄', '郭庄子'],\n",
       " '陶然桥': ['永定门外', '北京南站'],\n",
       " '永定门外': ['景泰', '陶然桥'],\n",
       " '景泰': ['蒲黄榆', '蒲黄榆', '永定门外'],\n",
       " '方庄': ['十里河', '蒲黄榆', '十里河'],\n",
       " '南八里庄': ['北工大西门', '十里河'],\n",
       " '北工大西门': ['平乐园', '南八里庄'],\n",
       " '平乐园': ['九龙山', '九龙山', '北工大西门'],\n",
       " '红庙': ['金台路', '大望路', '金台路'],\n",
       " '朝阳公园': ['枣营', '金台路'],\n",
       " '枣营': ['东风北桥', '朝阳公园'],\n",
       " '东风北桥': ['将台', '枣营'],\n",
       " '将台': ['高家园', '东风北桥'],\n",
       " '高家园': ['望京南', '将台'],\n",
       " '望京南': ['阜通', '高家园'],\n",
       " '阜通': ['望京', '望京南'],\n",
       " '望京': ['东湖渠', '望京东', '望京西', '阜通'],\n",
       " '东湖渠': ['来广营', '望京'],\n",
       " '来广营': ['善各庄', '东湖渠'],\n",
       " '清华东路西口': ['六道口'],\n",
       " '六道口': ['北沙滩', '清华东路西口'],\n",
       " '北沙滩': ['奥林匹克公园', '奥林匹克公园', '六道口'],\n",
       " '安立路': ['大屯路东', '大屯路东', '奥林匹克公园'],\n",
       " '关庄': ['望京西', '大屯路东', '望京西'],\n",
       " '望京东': ['崔各庄', '望京'],\n",
       " '崔各庄': ['马泉营', '望京东'],\n",
       " '马泉营': ['孙河', '崔各庄'],\n",
       " '孙河': ['国展', '马泉营'],\n",
       " '国展': ['花梨坎', '孙河'],\n",
       " '花梨坎': ['后沙峪', '国展'],\n",
       " '后沙峪': ['南法信', '花梨坎'],\n",
       " '南法信': ['石门', '后沙峪'],\n",
       " '石门': ['顺义', '南法信'],\n",
       " '顺义': ['俸伯', '石门'],\n",
       " '四惠东': ['高碑店', '四惠'],\n",
       " '高碑店': ['传媒大学', '四惠东'],\n",
       " '传媒大学': ['双桥', '高碑店'],\n",
       " '双桥': ['管庄', '传媒大学'],\n",
       " '管庄': ['八里桥', '双桥'],\n",
       " '八里桥': ['通州北苑', '管庄'],\n",
       " '通州北苑': ['果园', '八里桥'],\n",
       " '果园': ['九棵树', '通州北苑'],\n",
       " '九棵树': ['梨园', '果园'],\n",
       " '梨园': ['临河里', '九棵树'],\n",
       " '临河里': ['土桥', '梨园'],\n",
       " '昌平西山口': ['十三陵景区'],\n",
       " '十三陵景区': ['昌平', '昌平西山口'],\n",
       " '昌平': ['昌平东关', '十三陵景区'],\n",
       " '昌平东关': ['北邵洼', '昌平'],\n",
       " '北邵洼': ['南邵', '昌平东关'],\n",
       " '南邵': ['沙河高教园', '北邵洼'],\n",
       " '沙河高教园': ['沙河', '南邵'],\n",
       " '沙河': ['巩华城', '沙河高教园'],\n",
       " '巩华城': ['朱辛庄', '朱辛庄', '沙河'],\n",
       " '生命科学园': ['西二旗', '朱辛庄', '西二旗'],\n",
       " '肖村': ['小红门', '宋家庄'],\n",
       " '小红门': ['旧宫', '肖村'],\n",
       " '旧宫': ['亦庄桥', '小红门'],\n",
       " '亦庄桥': ['亦庄文化园', '旧宫'],\n",
       " '亦庄文化园': ['万源街', '亦庄桥'],\n",
       " '万源街': ['荣京东街', '亦庄文化园'],\n",
       " '荣京东街': ['荣昌东街', '万源街'],\n",
       " '荣昌东街': ['同济南路', '荣京东街'],\n",
       " '同济南路': ['经海路', '荣昌东街'],\n",
       " '经海路': ['次渠南', '同济南路'],\n",
       " '次渠南': ['次渠', '经海路'],\n",
       " '公益西桥': ['新宫', '角门西'],\n",
       " '新宫': ['西红门', '公益西桥'],\n",
       " '西红门': ['高米店北', '新宫'],\n",
       " '高米店北': ['高米店南', '西红门'],\n",
       " '高米店南': ['枣园', '高米店北'],\n",
       " '枣园': ['清源路', '高米店南'],\n",
       " '清源路': ['黄村西大街', '枣园'],\n",
       " '黄村西大街': ['黄村火车站', '清源路'],\n",
       " '黄村火车站': ['义和庄', '黄村西大街'],\n",
       " '义和庄': ['生物医药基地', '黄村火车站'],\n",
       " '生物医药基地': ['天宫院', '义和庄'],\n",
       " '郭公庄': ['大葆台', '丰台科技园'],\n",
       " '大葆台': ['稻田', '郭公庄'],\n",
       " '稻田': ['长阳', '大葆台'],\n",
       " '长阳': ['篱笆房', '稻田'],\n",
       " '篱笆房': ['广阳城', '长阳'],\n",
       " '广阳城': ['良乡大学城北', '篱笆房'],\n",
       " '良乡大学城北': ['良乡大学城', '广阳城'],\n",
       " '良乡大学城': ['良乡大学城西', '良乡大学城北'],\n",
       " '良乡大学城西': ['良乡南关', '良乡大学城'],\n",
       " '良乡南关': ['苏庄', '良乡大学城西'],\n",
       " 'T3航站楼': ['T2航站楼', '三元桥'],\n",
       " 'T2航站楼': ['三元桥', '三元桥', 'T3航站楼']}"
      ]
     },
     "execution_count": 13,
     "metadata": {},
     "output_type": "execute_result"
    }
   ],
   "source": [
    "station_connection"
   ]
  },
  {
   "cell_type": "markdown",
   "metadata": {},
   "source": [
    "##### 3. Build the search agent\n",
    "\n",
    "> Build the search agent based on the graph we build.\n",
    "\n",
    "for example, when you run: \n",
    "\n",
    "```python\n",
    ">>> search('奥体中心', '天安门') \n",
    "```\n",
    "you need get the result: \n",
    "\n",
    "奥体中心-> A -> B -> C -> ... -> 天安门\n",
    "\n"
   ]
  },
  {
   "cell_type": "code",
   "execution_count": 15,
   "metadata": {},
   "outputs": [],
   "source": [
    "from collections import defaultdict"
   ]
  },
  {
   "cell_type": "code",
   "execution_count": 18,
   "metadata": {},
   "outputs": [],
   "source": [
    "station_net = defaultdict(list)\n",
    "station_net.update(station_connection)"
   ]
  },
  {
   "cell_type": "code",
   "execution_count": 60,
   "metadata": {},
   "outputs": [],
   "source": [
    "def search(start,destination,graph,sort_candidate):\n",
    "    routes = [[start]]\n",
    "    seen = set()\n",
    "    while routes:\n",
    "        route = routes.pop(0)\n",
    "        frontier = route[-1]\n",
    "        if frontier in seen: continue\n",
    "        for station in graph[frontier]:\n",
    "            if station in seen: continue\n",
    "            new_route= route + [station]\n",
    "            routes.append(new_route)\n",
    "            if station == destination: return new_route\n",
    "        routes = sort_candidate(routes)\n",
    "        seen.add(frontier)"
   ]
  },
  {
   "cell_type": "code",
   "execution_count": 46,
   "metadata": {},
   "outputs": [],
   "source": [
    "def transfer_stations_first(pathes): \n",
    "    return sorted(pathes, key=len)"
   ]
  },
  {
   "cell_type": "code",
   "execution_count": 42,
   "metadata": {},
   "outputs": [],
   "source": [
    "def pretty_print(route):\n",
    "    return '->'.join(route)"
   ]
  },
  {
   "cell_type": "code",
   "execution_count": 61,
   "metadata": {},
   "outputs": [
    {
     "data": {
      "text/plain": [
       "'天安门西->西单->复兴门->阜成门->车公庄->西直门->积水潭->鼓楼大街->安德里北街->安华桥->北土城->奥体中心'"
      ]
     },
     "execution_count": 61,
     "metadata": {},
     "output_type": "execute_result"
    }
   ],
   "source": [
    "pretty_print(search('天安门西','奥体中心',station_net,transfer_stations_first))"
   ]
  },
  {
   "cell_type": "code",
   "execution_count": 62,
   "metadata": {},
   "outputs": [
    {
     "data": {
      "text/plain": [
       "'西单->灵境胡同->西四->平安里->北海北->南锣鼓巷'"
      ]
     },
     "execution_count": 62,
     "metadata": {},
     "output_type": "execute_result"
    }
   ],
   "source": [
    "pretty_print(search('西单','南锣鼓巷',station_net,transfer_stations_first))"
   ]
  },
  {
   "cell_type": "markdown",
   "metadata": {},
   "source": [
    "## （Optional）Create different policies for transfer system.\n"
   ]
  },
  {
   "cell_type": "markdown",
   "metadata": {},
   "source": [
    "以下部门为可选部分，请酌情完成。 并不要求全部同学完成。"
   ]
  },
  {
   "cell_type": "markdown",
   "metadata": {},
   "source": [
    "As much as you can to use the already implemented search agent. You just need to define the **is_goal()**, **get_successor()**, **strategy()** three functions. \n",
    "\n",
    "> a.\tDefine different policies for transfer system. \n",
    "\n",
    "> b.\tSuch as Shortest Path Priority（路程最短优先）, Minimum Transfer Priority(最少换乘优先), Comprehensive Priority(综合优先)\n",
    "\n",
    "> c.\tImplement Continuous transfer. Based on the Agent you implemented, please add this feature: Besides the @param start and @param destination two stations, add some more stations, we called @param by_way, it means, our path should from the start and end, but also include the  @param by_way stations. \n",
    "\n",
    "e.g \n",
    "```\n",
    "1. Input:  start=A,  destination=B, by_way=[C] \n",
    "    Output: [A, … .., C, …. B]\n",
    "2. Input: start=A, destination=B, by_way=[C, D, E]\n",
    "    Output: [A … C … E … D … B]  \n",
    "    # based on your policy, the E station could be reached firstly. \n",
    "![image.png](attachment:image.png)\n",
    "```"
   ]
  },
  {
   "cell_type": "markdown",
   "metadata": {},
   "source": [
    "##### 5.\tTest your result with commercial applications. \n",
    "\n",
    "将你的结果和高德地图或者百度地图进行比较，如果有不同，请分析原因\n"
   ]
  },
  {
   "cell_type": "markdown",
   "metadata": {},
   "source": [
    "恭喜，完成本次课程，你对常用的人工智能方法以及有一定的了解了。基于规则的，基于概率模型的，基于搜索的，基于机器学习的。 可以说，我们现在通常见到的方法都能够归属到这几类方法中。 这就是**人工智能**，并没有很难是吧？ 继续加油！"
   ]
  },
  {
   "cell_type": "markdown",
   "metadata": {},
   "source": [
    "![](https://timgsa.baidu.com/timg?image&quality=80&size=b9999_10000&sec=1562415163815&di=4b29a2a863a8285212033760f288ed7a&imgtype=0&src=http%3A%2F%2F5b0988e595225.cdn.sohucs.com%2Fimages%2F20180710%2F8704194a1d7f46a383ddc29d40c9bca5.jpeg)"
   ]
  }
 ],
 "metadata": {
  "kernelspec": {
   "display_name": "Python 3",
   "language": "python",
   "name": "python3"
  },
  "language_info": {
   "codemirror_mode": {
    "name": "ipython",
    "version": 3
   },
   "file_extension": ".py",
   "mimetype": "text/x-python",
   "name": "python",
   "nbconvert_exporter": "python",
   "pygments_lexer": "ipython3",
   "version": "3.7.3"
  }
 },
 "nbformat": 4,
 "nbformat_minor": 2
}
